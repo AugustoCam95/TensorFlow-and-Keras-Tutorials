{
 "cells": [
  {
   "cell_type": "markdown",
   "metadata": {},
   "source": [
    "<a href=\"https://www.tensorflow.org/?hl=pt-br\"><img src = \"https://upload.wikimedia.org/wikipedia/commons/thumb/1/11/TensorFlowLogo.svg/1280px-TensorFlowLogo.svg.png\" width = 250, align = \"center\"></a>\n",
    "\n",
    "<h1 align=center><font size = 8><strong> Introdução ao TensorFlow</strong></font></h1>"
   ]
  },
  {
   "cell_type": "markdown",
   "metadata": {},
   "source": [
    "<div class=\"alert alert-block alert-info\" style=\"margin-top: 20px\">\n",
    "<font size = 5><strong>Nesse notebook iremos fazer uma revisão em conceitos básicos de TensorFlow, aprender suas estruturas e ver com elas a motivação para usa-las:</strong></font><br>\n",
    "<br>\n",
    "<p><a href=\"#ref1\">Instalando TensorFlow</a></p>    \n",
    "<p><a href=\"#ref2\">Como funciona o TensorFlow?</a></p>\n",
    "<p><a href=\"#ref3\">Construindo um grafo</a></p>\n",
    "<p><a href=\"#ref4\"> Definindo vetores multidimensionais usando o TensorFlow</a></p>\n",
    "<p><a href=\"#ref5\">Por que Tensores?</a></p>\n",
    "<p><a href=\"#ref6\">Variaveis</a></p>\n",
    "<p><a href=\"#ref7\">Placeholders</a></p>\n",
    "<p><a href=\"#ref8\">Operações</a></p>\n",
    "<p></p>\n",
    "</div>\n",
    "<br>\n",
    "\n",
    "\n",
    "\n",
    "\n"
   ]
  },
  {
   "cell_type": "markdown",
   "metadata": {},
   "source": [
    "----------------"
   ]
  },
  {
   "cell_type": "markdown",
   "metadata": {},
   "source": [
    "<a id=\"ref1\"></a>\n",
    "# Instalando TensorFlow\n",
    "\n",
    "<h2> No Ubuntu</h2>\n",
    "    <p>Com o pip já instalado basta usar esse comando no terminal: <strong>sudo pip/pip3 install tensorflow</strong></p>\n",
    "<h2> No Windows</h2>\n",
    "    <p>Recomendo baixar o Anaconda versão 5.20 para o python 3.6 nesse link: <a href=\"https://repo.anaconda.com/archive/\"> https://repo.anaconda.com/archive/</a> </p> \n",
    "<h2> No Mac </h2>\n",
    "    <p>Viste o seguinte endereço: <a href=\"https://www.tensorflow.org/install/source\">https://www.tensorflow.org/install/source</a></p>"
   ]
  },
  {
   "cell_type": "markdown",
   "metadata": {},
   "source": [
    "-----------------------------------"
   ]
  },
  {
   "cell_type": "markdown",
   "metadata": {},
   "source": [
    "<a id=\"ref2\"></a>\n",
    "# Como funciona o TensorFlow?\n",
    "\n",
    "<strong>TensorFlow tem a capacidade de executar seu código em diferentes componetes tanto em CPUs quanto em GPUs isso é uma consequência da sua estrutura específica:</strong>\n",
    "     <p> -> TensorFlow define a computação como grafos, e esse são feito através de operações( também conhecidas como \"ops\"). Então, quando trabalhamos com TensorFlow, é a mesma coisa de termos a definição de uma série de operações em um grafo de execução.</p>\n",
    "     <p>-> Para executar essas operações como computações, nos devemos lançar nosso grafo em uma sessão. A sessão traduz e passa as operações representando o grafo para o dispositivo que você deseja que execute, seja ele GPU ou CPU</p>\n",
    "     <p>-> Por exemplo, a imagem abaixo representa um grafo em TensorFlow. _W_,_x_ e b são os tensores sobre as bordas do grafo. _MatMul_ é a operação a ser executada sobre os tensores _W_ e _x_, depois de _Add_ é chamada e adicionar o resultado do operador anterior com _b_. Os tensores resultantes de cada operação cruzam com o próximo até o final, onde  é possível obter o resultado desejado.</p> \n"
   ]
  },
  {
   "cell_type": "markdown",
   "metadata": {},
   "source": [
    "<img src='https://ibm.box.com/shared/static/a94cgezzwbkrq02jzfjjljrcaozu5s2q.png'>\n"
   ]
  },
  {
   "cell_type": "markdown",
   "metadata": {},
   "source": [
    "------------------------------"
   ]
  },
  {
   "cell_type": "markdown",
   "metadata": {},
   "source": [
    "# Importando TensorFlow"
   ]
  },
  {
   "cell_type": "code",
   "execution_count": 1,
   "metadata": {},
   "outputs": [],
   "source": [
    "import tensorflow as tf"
   ]
  },
  {
   "cell_type": "markdown",
   "metadata": {},
   "source": [
    "-----------------"
   ]
  },
  {
   "cell_type": "markdown",
   "metadata": {},
   "source": [
    "<a id=\"ref3\"></a>\n",
    "# Construindo o Grafo\n",
    "\n",
    "Como falamos anteriomente, TensorFlow funciona como modelo de grafo de execução. Vamos criar nosso primeiro grafo\n",
    "\n",
    "Para criar nosso primeiro grafo nos iremos utilizar _source operations_, com a qual não precisamos qualquer informação de entrada. \n",
    "\n",
    "Essas operações bases or _source ops_ passarão essa informação para outros operadores com qual executarão os calculos.\n",
    "\n",
    "Para criar essas duas operações bases que produzirão números, definiremos duas constantes::\n"
   ]
  },
  {
   "cell_type": "code",
   "execution_count": 2,
   "metadata": {},
   "outputs": [],
   "source": [
    "a = tf.constant([2])\n",
    "b = tf.constant([3])"
   ]
  },
  {
   "cell_type": "markdown",
   "metadata": {},
   "source": [
    "Apos isso, vamos fazer a operação em cima das variaveis. A função _tf.add()_ adiciona dois elementos ( você também pode usar `c = a + b`). "
   ]
  },
  {
   "cell_type": "code",
   "execution_count": 3,
   "metadata": {},
   "outputs": [],
   "source": [
    "c = tf.add(a,b)\n",
    "#c = a + b é também uma forma de definir a soma dos termos"
   ]
  },
  {
   "cell_type": "markdown",
   "metadata": {},
   "source": [
    "Então o TensorFlow precisa que incializemos uma sessão para rodar nosso código. Sessões são, de certa forma, um contexto para criar um grafo de execução no TensorFlow. Vamos definir nossa sessão:"
   ]
  },
  {
   "cell_type": "code",
   "execution_count": 4,
   "metadata": {},
   "outputs": [],
   "source": [
    "session = tf.Session()"
   ]
  },
  {
   "cell_type": "markdown",
   "metadata": {},
   "source": [
    "Vamos rodar essa sessão para conseguir o resultado da operação realizada em \"c\":"
   ]
  },
  {
   "cell_type": "code",
   "execution_count": 5,
   "metadata": {},
   "outputs": [
    {
     "name": "stdout",
     "output_type": "stream",
     "text": [
      "[5]\n"
     ]
    }
   ],
   "source": [
    "result = session.run(c)\n",
    "print(result)"
   ]
  },
  {
   "cell_type": "markdown",
   "metadata": {},
   "source": [
    "Feche a sessão para liberar os recursos:"
   ]
  },
  {
   "cell_type": "code",
   "execution_count": 6,
   "metadata": {},
   "outputs": [],
   "source": [
    "session.close()"
   ]
  },
  {
   "cell_type": "markdown",
   "metadata": {},
   "source": [
    "Para evitar de fechar sessões toda vez, nos podemos definir então um bloco _with, que depois de rodar o bloco _with a sessão finalizará automaticamente:"
   ]
  },
  {
   "cell_type": "code",
   "execution_count": 7,
   "metadata": {},
   "outputs": [
    {
     "name": "stdout",
     "output_type": "stream",
     "text": [
      "[5]\n"
     ]
    }
   ],
   "source": [
    "with tf.Session() as session:\n",
    "    result = session.run(c)\n",
    "    print(result)"
   ]
  },
  {
   "cell_type": "markdown",
   "metadata": {},
   "source": [
    "Mesmo esse exemplo tolo de adicionar 2 constantes para alcançar um resultado simples define a base do TensorFlow. Defina sua base (neste caso, nossas constantes), inclua nós (operações, como _tf.add_) e inicie uma sessão para construir um gráfico."
   ]
  },
  {
   "cell_type": "markdown",
   "metadata": {},
   "source": [
    "### Qual o significado de um Tensor?\n",
    "\n",
    "<div class=\"alert alert-success alertsuccess\" style=\"margin-top: 20px\">\n",
    "<font size = 3><strong>No TensorFlow todo o conjunto de dados é passado entre operações no grafo de execução, e esse são passados na forma de tensores, daí o nome TensorFlow </strong></font>\n",
    "<br>\n",
    "<br>\n",
    "    \n",
    "A palavra _tensor_ em latim significa \" aquili que se estende\". Isso é um objeto matemático chamado de _tensor\" pois a aplicação inicial de tensores era o estudo de materiais que se estendiam sobre tensão. O significado contemporâneo dos tensores pode ser tomado como matrizes multidimensionais.     \n",
    "<p></p>\n",
    "\n",
    "</div>\n",
    "Isso é ótimo, mas...o que são essas matrizes multidimensionais?\n",
    "\n",
    "Voltando um pouco para física para entender o conceito de dimensão:<br>\n",
    "<img src=\"https://ibm.box.com/shared/static/ymn0hl3hf8s3xb4k15v22y5vmuodnue1.svg\"/>\n",
    "<div style=\"text-align:center\">[[Image Source]](https://en.wikipedia.org/wiki/Dimension) </div>\n",
    "\n",
    "A dimensão zero pode ser vista como um ponto, um único objeto ou um elemento.\n",
    " \n",
    "A primeira dimensão um pode ser uma linha, um vetor de uma dimensão pode ser visto como vários numeros sobre uma linha, ou como pontos sobre uma linha. Uma dimensão pode conter infinitos pontos de dimensão zero.\n",
    "\n",
    "A segunda dimensão pode ser vista como uma superfície, uma matriz bidimensional pode ser vista como uma série infinita de linhas ao longo de uma linha infinita.\n",
    "\n",
    "A terceira dimensão pode ser vista como volume, uma matriz tridimensional pode ser vista como uma série infinita de superfícies ao longo de uma linha infinita.\n",
    "\n",
    "A quarta dimensão pode ser vista como o hiperespaço ou o espaço-tempo, um volume que varia ao longo do tempo ou uma série infinita de volumes ao longo de uma linha infinita. E assim por diante ...\n"
   ]
  },
  {
   "cell_type": "markdown",
   "metadata": {},
   "source": [
    "Como objetos matemáticos: <br><br>\n",
    "<img src=\"https://ibm.box.com/shared/static/kmxz570uai8eeg6i6ynqdz6kmlx1m422.png\">\n",
    "<div style=\"text-align:center\">[[Image Source]](https://book.mql4.com/variables/arrays)</div>"
   ]
  },
  {
   "cell_type": "markdown",
   "metadata": {},
   "source": [
    "Resumindo:<br><br>\n",
    "<table style=\"width:100%\">\n",
    "  <tr>\n",
    "    <td><b>Dimensão</b></td>\n",
    "    <td><b>Representação Física</b></td> \n",
    "    <td><b>Objeto matemático</b></td>\n",
    "    <td><b>No código</b></td>\n",
    "  </tr>\n",
    "  \n",
    "  <tr>\n",
    "    <td>Zero </td>\n",
    "    <td>Ponto</td> \n",
    "    <td>Escalar (Um numero)</td>\n",
    "    <td>[ 1 ]</td>\n",
    "  </tr>\n",
    "\n",
    "  <tr>\n",
    "    <td>Um</td>\n",
    "    <td>Linha</td> \n",
    "    <td>Vetor (Sequência de números) </td>\n",
    "    <td>[ 1,2,3,4,... ]</td>\n",
    "  </tr>\n",
    "  \n",
    "   <tr>\n",
    "    <td>Dois</td>\n",
    "    <td>Superfície</td> \n",
    "    <td>Matrix (Tabela de números)</td>\n",
    "    <td>[ [1,2,3,4,...], [1,2,3,4,...], [1,2,3,4,...],... ]</td>\n",
    "  </tr>\n",
    "  \n",
    "   <tr>\n",
    "    <td>Três</td>\n",
    "    <td>Volume</td> \n",
    "    <td>Tensor (Cubo de números)</td>\n",
    "    <td>[ [[1,2,...], [1,2,...], [1,2,...],...], [[1,2,...], [1,2,...], [1,2,...],...], [[1,2,...], [1,2,...], [1,2,...] ,...]... ]</td>\n",
    "  </tr>\n",
    "  \n",
    "</table>"
   ]
  },
  {
   "cell_type": "markdown",
   "metadata": {},
   "source": [
    "-----------------"
   ]
  },
  {
   "cell_type": "markdown",
   "metadata": {},
   "source": [
    "<a id=\"ref4\"></a>\n",
    "# Definindo vetores multidimensionais usando o TensorFlow\n",
    "Agora vamos tentar definir essas matrizes usando o TensorFlow:"
   ]
  },
  {
   "cell_type": "code",
   "execution_count": 8,
   "metadata": {},
   "outputs": [
    {
     "name": "stdout",
     "output_type": "stream",
     "text": [
      "Scalar (1 entry):\n",
      " [2] \n",
      "\n",
      "Vector (3 entries) :\n",
      " [5 6 2] \n",
      "\n",
      "Matrix (3x3 entries):\n",
      " [[1 2 3]\n",
      " [2 3 4]\n",
      " [3 4 5]] \n",
      "\n",
      "Tensor (3x3x3 entries) :\n",
      " [[[ 1  2  3]\n",
      "  [ 2  3  4]\n",
      "  [ 3  4  5]]\n",
      "\n",
      " [[ 4  5  6]\n",
      "  [ 5  6  7]\n",
      "  [ 6  7  8]]\n",
      "\n",
      " [[ 7  8  9]\n",
      "  [ 8  9 10]\n",
      "  [ 9 10 11]]] \n",
      "\n"
     ]
    }
   ],
   "source": [
    "Scalar = tf.constant([2])\n",
    "Vector = tf.constant([5,6,2])\n",
    "Matrix = tf.constant([[1,2,3],[2,3,4],[3,4,5]])\n",
    "Tensor = tf.constant( [ [[1,2,3],[2,3,4],[3,4,5]] , [[4,5,6],[5,6,7],[6,7,8]] , [[7,8,9],[8,9,10],[9,10,11]] ] )\n",
    "with tf.Session() as session:\n",
    "    result = session.run(Scalar)\n",
    "    print (\"Scalar (1 entry):\\n %s \\n\" % result)\n",
    "    result = session.run(Vector)\n",
    "    print (\"Vector (3 entries) :\\n %s \\n\" % result)\n",
    "    result = session.run(Matrix)\n",
    "    print (\"Matrix (3x3 entries):\\n %s \\n\" % result)\n",
    "    result = session.run(Tensor)\n",
    "    print (\"Tensor (3x3x3 entries) :\\n %s \\n\" % result)"
   ]
  },
  {
   "cell_type": "markdown",
   "metadata": {},
   "source": [
    "Agora que você entende essas estruturas de dados, convido-o a brincar com elas usando algumas funções anteriores para ver como elas se comportarão, de acordo com seus tipos de estrutura:"
   ]
  },
  {
   "cell_type": "code",
   "execution_count": 9,
   "metadata": {},
   "outputs": [
    {
     "name": "stdout",
     "output_type": "stream",
     "text": [
      "Definido usando a função do tensorflow:\n",
      "[[3 4 5]\n",
      " [4 5 6]\n",
      " [5 6 7]]\n",
      "Definido usando expressões normais:\n",
      "[[3 4 5]\n",
      " [4 5 6]\n",
      " [5 6 7]]\n"
     ]
    }
   ],
   "source": [
    "Matrix_one = tf.constant([[1,2,3],[2,3,4],[3,4,5]])\n",
    "Matrix_two = tf.constant([[2,2,2],[2,2,2],[2,2,2]])\n",
    "\n",
    "first_operation = tf.add(Matrix_one, Matrix_two)\n",
    "second_operation = Matrix_one + Matrix_two\n",
    "\n",
    "with tf.Session() as session:\n",
    "    result = session.run(first_operation)\n",
    "    print (\"Definido usando a função do tensorflow:\")\n",
    "    print(result)\n",
    "    result = session.run(second_operation)\n",
    "    print (\"Definido usando expressões normais:\")\n",
    "    print(result)"
   ]
  },
  {
   "cell_type": "markdown",
   "metadata": {},
   "source": [
    "Com a definição de símbolo regular e também a função TensorFlow, conseguimos obter uma multiplicação baseada em elementos, também conhecida como produto Hadamard.\n",
    "\n",
    "Mas e se quisermos o produto de matriz regular?\n",
    "\n",
    "Então, precisamos usar outra função do TensorFlow chamada __tf.matmul()__:"
   ]
  },
  {
   "cell_type": "code",
   "execution_count": 10,
   "metadata": {},
   "outputs": [
    {
     "name": "stdout",
     "output_type": "stream",
     "text": [
      "Definido usando a função do tensorflow:\n",
      "[[13 18]\n",
      " [18 25]]\n"
     ]
    }
   ],
   "source": [
    "Matrix_one = tf.constant([[2,3],[3,4]])\n",
    "Matrix_two = tf.constant([[2,3],[3,4]])\n",
    "\n",
    "first_operation = tf.matmul(Matrix_one, Matrix_two)\n",
    "\n",
    "with tf.Session() as session:\n",
    "    result = session.run(first_operation)\n",
    "    print (\"Definido usando a função do tensorflow:\")\n",
    "    print(result)"
   ]
  },
  {
   "cell_type": "markdown",
   "metadata": {},
   "source": [
    "Nós também podemos definir essa multiplicação, mas existe uma função que já faz isso, então não há necessidade de reinventar a roda!"
   ]
  },
  {
   "cell_type": "markdown",
   "metadata": {},
   "source": [
    "---------------"
   ]
  },
  {
   "cell_type": "markdown",
   "metadata": {},
   "source": [
    "<a id=\"ref5\"></a>\n",
    "# Por que Tensores?\n",
    "\n",
    "A estrutura Tensor nos ajuda, dando a liberdade de moldar o conjunto de dados da maneira que queremos.\n",
    "\n",
    "E é particularmente útil ao lidar com imagens, devido à natureza de como as informações nas imagens são codificadas,\n",
    "\n",
    "Pensando em imagens, é fácil entender que ela tem altura e largura, por isso faria sentido representar as informações contidas nela com uma estrutura bidimensional (uma matriz) ... até que você se lembre de que as imagens têm cores e Para adicionar informações sobre as cores, precisamos de outra dimensão, e isso acontece quando os Tensores se tornam particularmente úteis.\n",
    "\n",
    "As imagens são codificadas em canais de cores, os dados da imagem são representados em cada intensidade de cor em um canal de cor em um determinado ponto, sendo o mais comum o RGB, que significa Vermelho, Azul e Verde. A informação contida em uma imagem é a intensidade de cada cor de canal na largura e altura da imagem, assim:\n",
    "\n",
    "<img src='https://ibm.box.com/shared/static/xlpv9h5xws248c09k1rlx7cer69y4grh.png'>\n",
    "<div style=\"text-align:center\">[[Image Source]](https://msdn.microsoft.com/en-us/library/windows/desktop/dn424131.aspx)</div>\n",
    "\n",
    "Então a intensidade do canal vermelho em cada ponto com largura e altura pode ser representada em uma matriz, o mesmo vale para os canais azul e verde, então acabamos tendo três matrizes, e quando estas são combinadas elas formam um tensor.\n"
   ]
  },
  {
   "cell_type": "markdown",
   "metadata": {},
   "source": [
    "-----------------------"
   ]
  },
  {
   "cell_type": "markdown",
   "metadata": {},
   "source": [
    "<a id=\"ref6\"></a>\n",
    "# Variáveis\n",
    "\n",
    "Agora que estamos mais familiarizados com a estrutura de dados, vamos dar uma olhada em como o TensorFlow lida com as variáveis.\n",
    "\n",
    "Para definir variáveis, usamos o comando __tf.variable () __.\n",
    "Para poder usar variáveis em um gráfico de computação, é necessário inicializá-las antes de executar o gráfico em uma sessão. Isso é feito executando __tf.global_variables_initializer () __.\n",
    "\n",
    "Para atualizar o valor de uma variável, simplesmente executamos uma operação de atribuição que atribui um valor à variável:"
   ]
  },
  {
   "cell_type": "code",
   "execution_count": 11,
   "metadata": {},
   "outputs": [],
   "source": [
    "state = tf.Variable(0)"
   ]
  },
  {
   "cell_type": "markdown",
   "metadata": {},
   "source": [
    "Vamos primeiro criar um contador simples, uma variável que aumenta uma unidade de cada vez:"
   ]
  },
  {
   "cell_type": "code",
   "execution_count": 12,
   "metadata": {},
   "outputs": [],
   "source": [
    "one = tf.constant(1)\n",
    "new_value = tf.add(state, one)\n",
    "update = tf.assign(state, new_value)"
   ]
  },
  {
   "cell_type": "markdown",
   "metadata": {},
   "source": [
    "As variáveis devem ser inicializadas executando uma operação de inicialização após o lançamento do gráfico. Primeiro, precisamos adicionar a operação de inicialização ao gráfico:"
   ]
  },
  {
   "cell_type": "code",
   "execution_count": 13,
   "metadata": {},
   "outputs": [],
   "source": [
    "init_op = tf.global_variables_initializer()"
   ]
  },
  {
   "cell_type": "markdown",
   "metadata": {},
   "source": [
    "Em seguida, iniciamos uma sessão para executar o gráfico, primeiro inicializamos as variáveis, depois imprimimos o valor inicial da variável __state__ e, em seguida, executamos a operação de atualização da variável __state__ e imprimimos o resultado após cada atualização:"
   ]
  },
  {
   "cell_type": "code",
   "execution_count": 14,
   "metadata": {},
   "outputs": [
    {
     "name": "stdout",
     "output_type": "stream",
     "text": [
      "0\n",
      "1\n",
      "2\n",
      "3\n"
     ]
    }
   ],
   "source": [
    "with tf.Session() as session:\n",
    "    session.run(init_op)\n",
    "    print(session.run(state))\n",
    "    for _ in range(3):\n",
    "        session.run(update)\n",
    "        print(session.run(state))"
   ]
  },
  {
   "cell_type": "markdown",
   "metadata": {},
   "source": [
    "-----------------"
   ]
  },
  {
   "cell_type": "markdown",
   "metadata": {},
   "source": [
    "<a id=\"ref7\"></a>\n",
    "# Placeholders\n",
    "\n",
    "Agora sabemos como manipular variáveis dentro do TensorFlow, mas e quanto a alimentar dados fora de um modelo do TensorFlow?\n",
    "\n",
    "Se você quiser alimentar dados para um modelo TensorFlow de fora de um modelo, precisará usar marcadores de posição.\n",
    "\n",
    "Então, quais são esses espaços reservados e o que eles fazem?\n",
    "\n",
    "Os espaços reservados podem ser vistos como \"buracos\" em seu modelo, \"buracos\" aos quais você passará os dados, você pode criá-los usando <br/> <b> tf.placeholder (_datatype _) </ b>, onde <b> _datatype _ </ b> especifica o tipo de dados (inteiros, pontos flutuantes, cadeias de caracteres, booleanos) junto com seus bits de precisão (8, 16, 32, 64).\n",
    "\n",
    "A definição de cada tipo de dados com a respectiva sintaxe de python é definida como:"
   ]
  },
  {
   "cell_type": "markdown",
   "metadata": {},
   "source": [
    "|Data type\t|Python type|Description|\n",
    "| --------- | --------- | --------- |\n",
    "|DT_FLOAT\t|tf.float32\t|32 bits floating point.|\n",
    "|DT_DOUBLE\t|tf.float64\t|64 bits floating point.|\n",
    "|DT_INT8\t|tf.int8\t|8 bits signed integer.|\n",
    "|DT_INT16\t|tf.int16\t|16 bits signed integer.|\n",
    "|DT_INT32\t|tf.int32\t|32 bits signed integer.|\n",
    "|DT_INT64\t|tf.int64\t|64 bits signed integer.|\n",
    "|DT_UINT8\t|tf.uint8\t|8 bits unsigned integer.|\n",
    "|DT_STRING\t|tf.string\t|Variable length byte arrays. Each element of a Tensor is a byte array.|\n",
    "|DT_BOOL\t|tf.bool\t|Boolean.|\n",
    "|DT_COMPLEX64\t|tf.complex64\t|Complex number made of two 32 bits floating points: real and imaginary parts.|\n",
    "|DT_COMPLEX128\t|tf.complex128\t|Complex number made of two 64 bits floating points: real and imaginary parts.|\n",
    "|DT_QINT8\t|tf.qint8\t|8 bits signed integer used in quantized Ops.|\n",
    "|DT_QINT32\t|tf.qint32\t|32 bits signed integer used in quantized Ops.|\n",
    "|DT_QUINT8\t|tf.quint8\t|8 bits unsigned integer used in quantized Ops.|\n",
    "\n",
    "<div style=\"text-align:center\">[[Table Source]](https://www.tensorflow.org/versions/r0.9/resources/dims_types.html)</div>\n"
   ]
  },
  {
   "cell_type": "markdown",
   "metadata": {},
   "source": [
    "Então, criamos um marcador:"
   ]
  },
  {
   "cell_type": "code",
   "execution_count": 15,
   "metadata": {},
   "outputs": [],
   "source": [
    "a = tf.placeholder(tf.float32)"
   ]
  },
  {
   "cell_type": "markdown",
   "metadata": {},
   "source": [
    "And define a simple multiplication operation:"
   ]
  },
  {
   "cell_type": "code",
   "execution_count": 16,
   "metadata": {},
   "outputs": [],
   "source": [
    "b = a*2"
   ]
  },
  {
   "cell_type": "markdown",
   "metadata": {},
   "source": [
    "Now we need to define and run the session, but since we created a \"hole\" in the model to pass the data, when we initialize the session we are obligated to pass an argument with the data, otherwise we would get an error.\n",
    "\n",
    "To pass the data to the model we call the session with an extra argument <b> feed_dict</b> in which we should pass a dictionary with each placeholder name folowed by its respective data, just like this:"
   ]
  },
  {
   "cell_type": "code",
   "execution_count": 17,
   "metadata": {},
   "outputs": [
    {
     "name": "stdout",
     "output_type": "stream",
     "text": [
      "7.0\n"
     ]
    }
   ],
   "source": [
    "with tf.Session() as sess:\n",
    "    result = sess.run(b,feed_dict={a:3.5})\n",
    "    print (result)"
   ]
  },
  {
   "cell_type": "markdown",
   "metadata": {},
   "source": [
    "Como os dados em TensorFlow são passados na forma de matrizes multidimensionais, podemos passar qualquer tipo de tensor através dos espaços reservados para obter a resposta para a simples operação de multiplicação:"
   ]
  },
  {
   "cell_type": "code",
   "execution_count": 18,
   "metadata": {},
   "outputs": [
    {
     "name": "stdout",
     "output_type": "stream",
     "text": [
      "[[[ 2.  4.  6.]\n",
      "  [ 8. 10. 12.]\n",
      "  [14. 16. 18.]\n",
      "  [20. 22. 24.]]\n",
      "\n",
      " [[26. 28. 30.]\n",
      "  [32. 34. 36.]\n",
      "  [38. 40. 42.]\n",
      "  [44. 46. 48.]]]\n"
     ]
    }
   ],
   "source": [
    "dictionary={a: [ [ [1,2,3],[4,5,6],[7,8,9],[10,11,12] ] , [ [13,14,15],[16,17,18],[19,20,21],[22,23,24] ] ] }\n",
    "\n",
    "with tf.Session() as sess:\n",
    "    result = sess.run(b,feed_dict=dictionary)\n",
    "    print (result)"
   ]
  },
  {
   "cell_type": "markdown",
   "metadata": {},
   "source": [
    "------------------------"
   ]
  },
  {
   "cell_type": "markdown",
   "metadata": {},
   "source": [
    "<a id=\"ref8\"></a>\n",
    "# Operações\n",
    "\n",
    "Operações nos nós que representam as operações matemáticas sobre os tensores em um gráfico. Essas operações podem ser qualquer tipo de função, como somar e subtrair o tensor ou talvez uma função de ativação.\n",
    "\n",
    "_tf.matmul_, _tf.add_, _tf.nn.sigmoid_ são algumas das operações no TensorFlow. Estes são como funções em python, mas operam diretamente sobre tensores e cada um faz uma coisa específica.\n",
    "<div class=\"alert alert-success alertsuccess\" style=\"margin-top: 20px\">Other operations can be easily found in: https://www.tensorflow.org/versions/r0.9/api_docs/python/index.html</div>"
   ]
  },
  {
   "cell_type": "code",
   "execution_count": 19,
   "metadata": {},
   "outputs": [
    {
     "name": "stdout",
     "output_type": "stream",
     "text": [
      "c =: [7]\n",
      "d =: [3]\n"
     ]
    }
   ],
   "source": [
    "a = tf.constant([5])\n",
    "b = tf.constant([2])\n",
    "c = tf.add(a,b)\n",
    "d = tf.subtract(a,b)\n",
    "\n",
    "with tf.Session() as session:\n",
    "    result = session.run(c)\n",
    "    print ('c =: %s' % result)\n",
    "    result = session.run(d)\n",
    "    print ('d =: %s' % result)"
   ]
  },
  {
   "cell_type": "markdown",
   "metadata": {},
   "source": [
    "-------------------------"
   ]
  },
  {
   "cell_type": "markdown",
   "metadata": {},
   "source": [
    "# Agradecimentos e Indicações"
   ]
  },
  {
   "cell_type": "markdown",
   "metadata": {},
   "source": [
    "<a href=\"https://www.bigdatauniversity.com\"><img src = \"https://ibm.box.com/shared/static/jvcqp2iy2jlx2b32rmzdt0tx8lvxgzkp.png\" width = 300, align = \"center\"></a><br>\n",
    "<p>Este notebook foi desenvolvido graças ao curso de \"Deep Learning with TensorFlow\" da Cognitive Class.</p>\n",
    "<p>Segue o link do curso original:<br><a href=\"https://cognitiveclass.ai/courses/deep-learning-tensorflo\"> https://cognitiveclass.ai/courses/deep-learning-tensorfl </a> </p>"
   ]
  },
  {
   "cell_type": "markdown",
   "metadata": {},
   "source": [
    "<a href=\"https://www.udemy.com/\"><img src = \"https://www.udemy.com/staticx/udemy/images/v6/default-meta-image.png\" width = 300, align = \"center\"></a><br>\n",
    "<p>Segue aqui indicações de bons cursos sobre TensorFlow na plataforma paga Udemy</p>\n",
    "<p>TensorFlow: Machine Learning e Deep Learning com Python:<br><a href=\"https://www.udemy.com/tensorflow-machine-learning-deep-learning-python/\">https://www.udemy.com/tensorflow-machine-learning-deep-learning-python/</a></p>\n",
    "<p>Complete Guide to TensorFlow for Deep Learning with Python:<br><a href=\"https://www.udemy.com/complete-guide-to-tensorflow-for-deep-learning-with-python/\">https://www.udemy.com/complete-guide-to-tensorflow-for-deep-learning-with-python/</a></p>"
   ]
  },
  {
   "cell_type": "markdown",
   "metadata": {},
   "source": [
    "-----------------------------"
   ]
  }
 ],
 "metadata": {
  "kernelspec": {
   "display_name": "Python 3",
   "language": "python",
   "name": "python3"
  },
  "language_info": {
   "codemirror_mode": {
    "name": "ipython",
    "version": 3
   },
   "file_extension": ".py",
   "mimetype": "text/x-python",
   "name": "python",
   "nbconvert_exporter": "python",
   "pygments_lexer": "ipython3",
   "version": "3.6.7"
  }
 },
 "nbformat": 4,
 "nbformat_minor": 2
}
