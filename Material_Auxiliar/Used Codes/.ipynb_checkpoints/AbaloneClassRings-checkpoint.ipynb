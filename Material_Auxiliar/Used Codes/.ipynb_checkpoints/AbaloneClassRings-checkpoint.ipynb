{
 "cells": [
  {
   "cell_type": "code",
   "execution_count": 1,
   "metadata": {},
   "outputs": [],
   "source": [
    "from __future__ import division\n",
    "\n",
    "import sys\n",
    "import numpy as np\n",
    "import tensorflow as tf\n",
    "from sklearn.metrics import accuracy_score"
   ]
  },
  {
   "cell_type": "code",
   "execution_count": 2,
   "metadata": {},
   "outputs": [
    {
     "name": "stdout",
     "output_type": "stream",
     "text": [
      "4177\n",
      "9\n",
      "(4177, 9)\n",
      "[['M' '0.455' '0.365' ... '0.101' '0.15' '15']\n",
      " ['M' '0.35' '0.265' ... '0.0485' '0.07' '7']\n",
      " ['F' '0.53' '0.42' ... '0.1415' '0.21' '9']\n",
      " ...\n",
      " ['M' '0.6' '0.475' ... '0.2875' '0.308' '9']\n",
      " ['F' '0.625' '0.485' ... '0.261' '0.296' '10']\n",
      " ['M' '0.71' '0.555' ... '0.3765' '0.495' '12']]\n"
     ]
    }
   ],
   "source": [
    "dataAbalone = np.loadtxt(\"abalone.data\", dtype = str, delimiter = ',')\n",
    "linha = dataAbalone.shape[0]\n",
    "coluna = dataAbalone.shape[1]\n",
    "print(linha)\n",
    "print(coluna)\n",
    "print(np.shape(dataAbalone))\n",
    "print(dataAbalone)"
   ]
  },
  {
   "cell_type": "code",
   "execution_count": 3,
   "metadata": {},
   "outputs": [],
   "source": [
    "np.random.shuffle(dataAbalone)"
   ]
  },
  {
   "cell_type": "code",
   "execution_count": 4,
   "metadata": {},
   "outputs": [],
   "source": [
    "for i in range(linha):\n",
    "    for j in range(coluna):\n",
    "        if(dataAbalone[i,j] == \"M\"):\n",
    "            dataAbalone[i,j] = 0\n",
    "        if(dataAbalone[i,j] == \"F\"):\n",
    "            dataAbalone[i,j] = 1\n",
    "        if(dataAbalone[i,j] == \"I\"):\n",
    "            dataAbalone[i,j] = 2"
   ]
  },
  {
   "cell_type": "code",
   "execution_count": 5,
   "metadata": {},
   "outputs": [],
   "source": [
    "dataAbalone = np.float32(dataAbalone)"
   ]
  },
  {
   "cell_type": "code",
   "execution_count": 6,
   "metadata": {},
   "outputs": [
    {
     "data": {
      "text/plain": [
       "(4177, 9)"
      ]
     },
     "execution_count": 6,
     "metadata": {},
     "output_type": "execute_result"
    }
   ],
   "source": [
    "np.shape(dataAbalone)"
   ]
  },
  {
   "cell_type": "code",
   "execution_count": 7,
   "metadata": {},
   "outputs": [],
   "source": [
    "#for i in range(linha):\n",
    "#    if dataAbalone[i,8] < 3:\n",
    "#        dataAbalone[i,8] = 0\n",
    "#    if 2 < dataAbalone[i,8] and dataAbalone[i,8] < 7:\n",
    "#        dataAbalone[i,8] = 1\n",
    "#    if 6 < dataAbalone[i,8]  and dataAbalone[i,8] < 10:\n",
    "#        dataAbalone[i,8] = 2\n",
    "#    if 9 < dataAbalone[i,8]  and  dataAbalone[i,8] < 13:\n",
    "#        dataAbalone[i,8] = 3\n",
    "#    if 12 < dataAbalone[i,8]   and dataAbalone[i,8] < 16:\n",
    "#        dataAbalone[i,8] = 4\n",
    "#    if 15 < dataAbalone[i,8] and dataAbalone[i,8] < 19:\n",
    "#        dataAbalone[i,8] = 5\n",
    "#    if 18 < dataAbalone[i,8] and dataAbalone[i,8] < 22:\n",
    "#        dataAbalone[i,8] = 6\n",
    "#    if 21 < dataAbalone[i,8] and dataAbalone[i,8] < 25:\n",
    "#        dataAbalone[i,8] = 7\n",
    "#    if 24 < dataAbalone[i,8] and dataAbalone[i,8] < 28:\n",
    "#        dataAbalone[i,8] = 8\n",
    "#    if 27 < dataAbalone[i,8] and dataAbalone[i,8] < 31:\n",
    "#        dataAbalone[i,8] = 9"
   ]
  },
  {
   "cell_type": "code",
   "execution_count": 8,
   "metadata": {},
   "outputs": [],
   "source": [
    "#for i in range(linha):\n",
    "#    if dataAbalone[i,8] < 6:\n",
    "#        dataAbalone[i,8] = 0\n",
    "#    if 5 < dataAbalone[i,8] and dataAbalone[i,8] < 11:\n",
    "#        dataAbalone[i,8] = 1\n",
    "#    if 10 < dataAbalone[i,8] and dataAbalone[i,8] < 16:\n",
    "#        dataAbalone[i,8] = 2\n",
    "#    if 15 < dataAbalone[i,8] and dataAbalone[i,8] < 21:\n",
    "#        dataAbalone[i,8] = 3\n",
    "#    if 20 < dataAbalone[i,8] and dataAbalone[i,8] < 26:\n",
    "#        dataAbalone[i,8] = 4\n",
    "#    if 25 < dataAbalone[i,8] and dataAbalone[i,8] < 31:\n",
    "#        dataAbalone[i,8] = 5"
   ]
  },
  {
   "cell_type": "code",
   "execution_count": 9,
   "metadata": {},
   "outputs": [],
   "source": [
    "for i in range(linha):\n",
    "    if dataAbalone[i,8] < 8: \n",
    "        dataAbalone[i,8] = 0\n",
    "    if 7 < dataAbalone[i,8] and dataAbalone[i,8] < 15 :\n",
    "        dataAbalone[i,8] = 1\n",
    "    if 14 < dataAbalone[i,8] and dataAbalone[i,8] < 22:\n",
    "        dataAbalone[i,8] = 2\n",
    "    if 21 < dataAbalone[i,8] and dataAbalone[i,8] < 30:\n",
    "        dataAbalone[i,8] = 3"
   ]
  },
  {
   "cell_type": "code",
   "execution_count": 10,
   "metadata": {},
   "outputs": [
    {
     "name": "stdout",
     "output_type": "stream",
     "text": [
      "[0. 1. 1. ... 2. 0. 1.]\n"
     ]
    }
   ],
   "source": [
    "print(dataAbalone[:,8])"
   ]
  },
  {
   "cell_type": "code",
   "execution_count": 11,
   "metadata": {},
   "outputs": [],
   "source": [
    "x = np.float32(dataAbalone[:, 0:7])\n",
    "y = dataAbalone[:,8]"
   ]
  },
  {
   "cell_type": "code",
   "execution_count": 12,
   "metadata": {},
   "outputs": [
    {
     "name": "stdout",
     "output_type": "stream",
     "text": [
      "[0.0, 1.0, 2.0, 3.0]\n",
      "4\n"
     ]
    }
   ],
   "source": [
    "classes = list(set(y))\n",
    "print(classes)\n",
    "print(len(classes))"
   ]
  },
  {
   "cell_type": "markdown",
   "metadata": {},
   "source": [
    "### Montando one-hot encondig\n"
   ]
  },
  {
   "cell_type": "code",
   "execution_count": 13,
   "metadata": {},
   "outputs": [],
   "source": [
    "for y_index in range(len(y)):\n",
    "    y[y_index] = classes.index(y[y_index])"
   ]
  },
  {
   "cell_type": "code",
   "execution_count": 14,
   "metadata": {},
   "outputs": [
    {
     "name": "stdout",
     "output_type": "stream",
     "text": [
      "(4177, 4)\n"
     ]
    }
   ],
   "source": [
    "y_onehot = np.zeros(shape = [len(y), len(classes)])\n",
    "print(np.shape(y_onehot))\n",
    "\n"
   ]
  },
  {
   "cell_type": "code",
   "execution_count": 15,
   "metadata": {},
   "outputs": [],
   "source": [
    "for y_index in range(len(y)):\n",
    "    y_onehot[y_index, int(y[y_index])] = 1"
   ]
  },
  {
   "cell_type": "markdown",
   "metadata": {},
   "source": [
    "### Separando dataset em treino e em teste\n"
   ]
  },
  {
   "cell_type": "code",
   "execution_count": 16,
   "metadata": {},
   "outputs": [],
   "source": [
    "x_train = x[0:3500, :]\n",
    "y_train = y_onehot[0:3500, :]\n",
    "\n",
    "x_test = x[3500:4177, :]\n",
    "y_test = y_onehot[3500:4177, :]"
   ]
  },
  {
   "cell_type": "code",
   "execution_count": 17,
   "metadata": {},
   "outputs": [
    {
     "name": "stdout",
     "output_type": "stream",
     "text": [
      "(3500, 7)\n",
      "(3500, 4)\n",
      "(677, 7)\n",
      "(677, 4)\n"
     ]
    }
   ],
   "source": [
    "print(np.shape(x_train))\n",
    "print(np.shape(y_train))\n",
    "print(np.shape(x_test))\n",
    "print(np.shape(y_test))"
   ]
  },
  {
   "cell_type": "markdown",
   "metadata": {},
   "source": [
    "### Network( MLP )"
   ]
  },
  {
   "cell_type": "code",
   "execution_count": 102,
   "metadata": {},
   "outputs": [],
   "source": [
    "tf.reset_default_graph()"
   ]
  },
  {
   "cell_type": "code",
   "execution_count": 103,
   "metadata": {},
   "outputs": [],
   "source": [
    "X = tf.placeholder(dtype= tf.float32, shape = [None, 7])\n",
    "Y = tf.placeholder(dtype= tf.float32, shape = [None, len(classes)])\n",
    "\n",
    "alpha = tf.placeholder(dtype= tf.float32, shape = None)"
   ]
  },
  {
   "cell_type": "code",
   "execution_count": 104,
   "metadata": {},
   "outputs": [],
   "source": [
    "dense1 = tf.layers.dense(inputs= X, units = 35, activation= tf.nn.tanh)\n",
    "dense2 = tf.layers.dense(inputs= dense1, units = 20, activation= tf.nn.tanh)"
   ]
  },
  {
   "cell_type": "code",
   "execution_count": 105,
   "metadata": {},
   "outputs": [],
   "source": [
    "output = tf.layers.dense(inputs= dense2, units = len(classes), activation= tf.nn.softmax)"
   ]
  },
  {
   "cell_type": "code",
   "execution_count": 106,
   "metadata": {},
   "outputs": [
    {
     "name": "stdout",
     "output_type": "stream",
     "text": [
      "(1, 4)\n"
     ]
    }
   ],
   "source": [
    "a = np.array(list(range(len(classes))),dtype = np.float32)\n",
    "a = np.reshape(a, [1,len(classes)])\n",
    "print(a.shape)"
   ]
  },
  {
   "cell_type": "code",
   "execution_count": 107,
   "metadata": {},
   "outputs": [],
   "source": [
    "#loss = tf.losses.softmax_cross_entropy(Y, output)\n",
    "\n",
    "Y_original = tf.argmax(input=Y, axis=1)"
   ]
  },
  {
   "cell_type": "code",
   "execution_count": 108,
   "metadata": {},
   "outputs": [],
   "source": [
    "loss1 = tf.matmul(a, tf.transpose(output))\n",
    "#print(loss1)\n",
    "loss2 = tf.subtract(tf.cast(Y_original, dtype=tf.float32), loss1)\n",
    "#print(loss2)\n",
    "loss3 = tf.multiply(loss2, loss2) # element-wise pow\n",
    "#print(loss3)\n",
    "loss = tf.reduce_mean(loss3)\n",
    "#print(loss)"
   ]
  },
  {
   "cell_type": "code",
   "execution_count": 109,
   "metadata": {},
   "outputs": [],
   "source": [
    "expec = tf.transpose(tf.matmul(a, tf.transpose(output)))\n",
    "expec_rounded = tf.round(expec)\n",
    "output = expec_rounded"
   ]
  },
  {
   "cell_type": "code",
   "execution_count": 110,
   "metadata": {},
   "outputs": [],
   "source": [
    "trainer = tf.train.AdamOptimizer( learning_rate = alpha)\n",
    "\n",
    "train_operation = trainer.minimize(loss)"
   ]
  },
  {
   "cell_type": "markdown",
   "metadata": {},
   "source": [
    "### Criando seção e executando o grafo"
   ]
  },
  {
   "cell_type": "code",
   "execution_count": 111,
   "metadata": {},
   "outputs": [],
   "source": [
    "def compute_accuracy(real, output):\n",
    "    real = np.argmax(real, axis = 1)\n",
    "    output = np.argmax(output, axis = 1)\n",
    "    return sum(real == output)/float(len(real))"
   ]
  },
  {
   "cell_type": "code",
   "execution_count": 112,
   "metadata": {},
   "outputs": [],
   "source": [
    "def compute_accuracy_expec(real, output):\n",
    "    real = np.argmax(real, axis = 1)\n",
    "    output = np.transpose(output)[0]\n",
    "    return sum(real == output)/float(len(real))    "
   ]
  },
  {
   "cell_type": "code",
   "execution_count": 113,
   "metadata": {},
   "outputs": [],
   "source": [
    "train_epochs = 11000\n",
    "\n",
    "sess = tf.Session()"
   ]
  },
  {
   "cell_type": "code",
   "execution_count": 114,
   "metadata": {},
   "outputs": [
    {
     "name": "stdout",
     "output_type": "stream",
     "text": [
      "Epoch 0: - Loss:0.7135023474693298 -  Accuracy: 0.32857142857142857 \n",
      "Epoch 1000: - Loss:0.13351164758205414 -  Accuracy: 0.8314285714285714 \n",
      "Epoch 2000: - Loss:0.12804006040096283 -  Accuracy: 0.8377142857142857 \n",
      "Epoch 3000: - Loss:0.11887276917695999 -  Accuracy: 0.8542857142857143 \n",
      "Epoch 4000: - Loss:0.1090659648180008 -  Accuracy: 0.8694285714285714 \n",
      "Epoch 5000: - Loss:0.10326702147722244 -  Accuracy: 0.8765714285714286 \n",
      "Epoch 6000: - Loss:0.09905944764614105 -  Accuracy: 0.8834285714285715 \n",
      "Epoch 7000: - Loss:0.09759891778230667 -  Accuracy: 0.8882857142857142 \n",
      "Epoch 8000: - Loss:0.0988636314868927 -  Accuracy: 0.8808571428571429 \n",
      "Epoch 9000: - Loss:0.09116767346858978 -  Accuracy: 0.896 \n",
      "Epoch 10000: - Loss:0.09543324261903763 -  Accuracy: 0.888 \n"
     ]
    }
   ],
   "source": [
    "sess.run(tf.global_variables_initializer())\n",
    "\n",
    "for epoch in range(train_epochs):\n",
    "    output_, loss_, train_operation_ = sess.run([output, loss, train_operation],\n",
    "                                               feed_dict = {X: x_train, Y: y_train,\n",
    "                                                           alpha: 0.0175})\n",
    "    if not (epoch % 1000):\n",
    "        print(\"Epoch {}: - Loss:{} -  Accuracy: {} \".format(epoch, loss_, compute_accuracy_expec(y_train, output_)))"
   ]
  },
  {
   "cell_type": "code",
   "execution_count": 115,
   "metadata": {},
   "outputs": [
    {
     "name": "stdout",
     "output_type": "stream",
     "text": [
      "Loss: 0.17784759402275085 - Accuracy: 0.793205317577548\n"
     ]
    }
   ],
   "source": [
    "output_, loss_ = sess.run([output, loss], feed_dict={X: x_test, Y: y_test})\n",
    "print(\"Loss: {} - Accuracy: {}\".format(loss_, compute_accuracy_expec(y_test, output_)))"
   ]
  },
  {
   "cell_type": "code",
   "execution_count": null,
   "metadata": {},
   "outputs": [],
   "source": []
  }
 ],
 "metadata": {
  "kernelspec": {
   "display_name": "Python 3",
   "language": "python",
   "name": "python3"
  },
  "language_info": {
   "codemirror_mode": {
    "name": "ipython",
    "version": 3
   },
   "file_extension": ".py",
   "mimetype": "text/x-python",
   "name": "python",
   "nbconvert_exporter": "python",
   "pygments_lexer": "ipython3",
   "version": "3.6.5"
  }
 },
 "nbformat": 4,
 "nbformat_minor": 2
}
