{
 "cells": [
  {
   "cell_type": "code",
   "execution_count": 1,
   "metadata": {},
   "outputs": [
    {
     "name": "stderr",
     "output_type": "stream",
     "text": [
      "/home/lsbd/.local/lib/python3.6/site-packages/sklearn/cross_validation.py:41: DeprecationWarning: This module was deprecated in version 0.18 in favor of the model_selection module into which all the refactored classes and functions are moved. Also note that the interface of the new CV iterators are different from that of this module. This module will be removed in 0.20.\n",
      "  \"This module will be removed in 0.20.\", DeprecationWarning)\n"
     ]
    }
   ],
   "source": [
    "from __future__ import division\n",
    "\n",
    "import numpy as np\n",
    "import tensorflow as tf\n",
    "from sklearn import preprocessing\n",
    "from sklearn.cross_validation import train_test_split\n",
    "from sklearn.metrics import accuracy_score\n"
   ]
  },
  {
   "cell_type": "code",
   "execution_count": 2,
   "metadata": {},
   "outputs": [],
   "source": [
    "dataAbalone = np.loadtxt(\"abalone.data\", dtype = str, delimiter = ',')\n",
    "linha = dataAbalone.shape[0]\n",
    "coluna = dataAbalone.shape[1]"
   ]
  },
  {
   "cell_type": "code",
   "execution_count": 3,
   "metadata": {},
   "outputs": [
    {
     "name": "stdout",
     "output_type": "stream",
     "text": [
      "Shape: 4177,9\n"
     ]
    },
    {
     "data": {
      "text/plain": [
       "array([['M', '0.455', '0.365', ..., '0.101', '0.15', '15'],\n",
       "       ['M', '0.35', '0.265', ..., '0.0485', '0.07', '7'],\n",
       "       ['F', '0.53', '0.42', ..., '0.1415', '0.21', '9'],\n",
       "       ...,\n",
       "       ['M', '0.6', '0.475', ..., '0.2875', '0.308', '9'],\n",
       "       ['F', '0.625', '0.485', ..., '0.261', '0.296', '10'],\n",
       "       ['M', '0.71', '0.555', ..., '0.3765', '0.495', '12']], dtype='<U6')"
      ]
     },
     "execution_count": 3,
     "metadata": {},
     "output_type": "execute_result"
    }
   ],
   "source": [
    "print(\"Shape: {},{}\".format(linha,coluna))\n",
    "dataAbalone"
   ]
  },
  {
   "cell_type": "code",
   "execution_count": 4,
   "metadata": {},
   "outputs": [],
   "source": [
    "np.random.shuffle(dataAbalone)"
   ]
  },
  {
   "cell_type": "code",
   "execution_count": 5,
   "metadata": {},
   "outputs": [],
   "source": [
    "for i in range(linha):\n",
    "    for j in range(coluna):\n",
    "        if(dataAbalone[i,j] == \"M\"):\n",
    "            dataAbalone[i,j] = 0\n",
    "        if(dataAbalone[i,j] == \"F\"):\n",
    "            dataAbalone[i,j] = 1\n",
    "        if(dataAbalone[i,j] == \"I\"):\n",
    "            dataAbalone[i,j] = 2"
   ]
  },
  {
   "cell_type": "code",
   "execution_count": 6,
   "metadata": {},
   "outputs": [
    {
     "data": {
      "text/plain": [
       "array([['0', '0.445', '0.35', ..., '0.0695', '0.117', '8'],\n",
       "       ['2', '0.235', '0.175', ..., '0.015', '0.02', '5'],\n",
       "       ['0', '0.58', '0.465', ..., '0.1865', '0.385', '17'],\n",
       "       ...,\n",
       "       ['1', '0.6', '0.475', ..., '0.1695', '0.3205', '10'],\n",
       "       ['0', '0.575', '0.445', ..., '0.1405', '0.237', '10'],\n",
       "       ['0', '0.355', '0.26', ..., '0.0485', '0.055', '6']], dtype='<U6')"
      ]
     },
     "execution_count": 6,
     "metadata": {},
     "output_type": "execute_result"
    }
   ],
   "source": [
    "dataAbalone"
   ]
  },
  {
   "cell_type": "code",
   "execution_count": 100,
   "metadata": {},
   "outputs": [],
   "source": [
    "x = np.float32(dataAbalone[:,0:7])\n",
    "#x = preprocessing.normalize(x, axis = 0, norm='max')\n",
    "y = dataAbalone[:,8]"
   ]
  },
  {
   "cell_type": "code",
   "execution_count": 101,
   "metadata": {},
   "outputs": [
    {
     "name": "stdout",
     "output_type": "stream",
     "text": [
      "['5', '1', '18', '4', '26', '10', '14', '20', '22', '9', '23', '2', '0', '15', '25', '13', '16', '11', '27', '12', '8', '19', '17', '21', '24', '6', '7', '3']\n",
      "28\n"
     ]
    }
   ],
   "source": [
    "classes =  list(set(y))\n",
    "print(classes)\n",
    "print(len(classes))"
   ]
  },
  {
   "cell_type": "code",
   "execution_count": 102,
   "metadata": {},
   "outputs": [],
   "source": [
    "for y_index in range(len(y)):\n",
    "    y[y_index] = classes.index(y[y_index])"
   ]
  },
  {
   "cell_type": "code",
   "execution_count": 103,
   "metadata": {},
   "outputs": [
    {
     "name": "stdout",
     "output_type": "stream",
     "text": [
      "(4177,)\n",
      "['7' '1' '8' ... '25' '25' '14']\n"
     ]
    }
   ],
   "source": [
    "print(y.shape)\n",
    "print(y)"
   ]
  },
  {
   "cell_type": "code",
   "execution_count": 104,
   "metadata": {},
   "outputs": [
    {
     "name": "stdout",
     "output_type": "stream",
     "text": [
      "(4177, 28)\n"
     ]
    }
   ],
   "source": [
    "Y_onehot = np.zeros(shape = [len(y), len(classes)])\n",
    "print(np.shape(Y_onehot))\n",
    "\n",
    "for y_index in range(len(y)):\n",
    "    Y_onehot[y_index, int(y[y_index])] = 1"
   ]
  },
  {
   "cell_type": "code",
   "execution_count": 105,
   "metadata": {},
   "outputs": [
    {
     "name": "stdout",
     "output_type": "stream",
     "text": [
      "[[0. 0. 0. ... 0. 0. 0.]\n",
      " [0. 1. 0. ... 0. 0. 0.]\n",
      " [0. 0. 0. ... 0. 0. 0.]\n",
      " ...\n",
      " [0. 0. 0. ... 1. 0. 0.]\n",
      " [0. 0. 0. ... 1. 0. 0.]\n",
      " [0. 0. 0. ... 0. 0. 0.]]\n"
     ]
    }
   ],
   "source": [
    "print(Y_onehot)"
   ]
  },
  {
   "cell_type": "code",
   "execution_count": 106,
   "metadata": {},
   "outputs": [],
   "source": [
    "#train\n",
    "x_train = np.float32(x[0:3500, :])\n",
    "\n",
    "#y_train = Y_onehot[0:3500, :]\n",
    "y_train = Y_onehot[0:3500]\n",
    "\n",
    "#test\n",
    "x_test = np.float32(x[3500:4177, :])\n",
    "#y_test = Y_onehot[3500:4177, :]\n",
    "y_test = Y_onehot[3500:4177]\n"
   ]
  },
  {
   "cell_type": "code",
   "execution_count": 107,
   "metadata": {},
   "outputs": [
    {
     "name": "stdout",
     "output_type": "stream",
     "text": [
      "[[0.     0.445  0.35   ... 0.3615 0.1565 0.0695]\n",
      " [2.     0.235  0.175  ... 0.0705 0.0335 0.015 ]\n",
      " [0.     0.58   0.465  ... 1.035  0.401  0.1865]\n",
      " ...\n",
      " [0.     0.62   0.5    ... 1.3915 0.726  0.2795]\n",
      " [2.     0.45   0.35   ... 0.514  0.253  0.1045]\n",
      " [2.     0.46   0.335  ... 0.444  0.225  0.0745]]\n",
      "[[0. 0. 0. ... 0. 0. 0.]\n",
      " [0. 1. 0. ... 0. 0. 0.]\n",
      " [0. 0. 0. ... 0. 0. 0.]\n",
      " ...\n",
      " [0. 0. 0. ... 0. 0. 0.]\n",
      " [0. 0. 0. ... 0. 0. 0.]\n",
      " [0. 0. 0. ... 0. 0. 0.]]\n",
      "[[2.     0.585  0.46   ... 0.7635 0.326  0.153 ]\n",
      " [0.     0.64   0.5    ... 1.273  0.5065 0.2925]\n",
      " [2.     0.605  0.49   ... 1.071  0.482  0.1935]\n",
      " ...\n",
      " [1.     0.6    0.475  ... 1.21   0.653  0.1695]\n",
      " [0.     0.575  0.445  ... 0.737  0.325  0.1405]\n",
      " [0.     0.355  0.26   ... 0.1905 0.081  0.0485]]\n",
      "[[0. 0. 0. ... 0. 0. 0.]\n",
      " [0. 0. 0. ... 0. 0. 0.]\n",
      " [0. 0. 0. ... 1. 0. 0.]\n",
      " ...\n",
      " [0. 0. 0. ... 1. 0. 0.]\n",
      " [0. 0. 0. ... 1. 0. 0.]\n",
      " [0. 0. 0. ... 0. 0. 0.]]\n"
     ]
    }
   ],
   "source": [
    "print((x_train))\n",
    "print((y_train))\n",
    "print((x_test))\n",
    "print((y_test))"
   ]
  },
  {
   "cell_type": "code",
   "execution_count": 108,
   "metadata": {},
   "outputs": [
    {
     "name": "stdout",
     "output_type": "stream",
     "text": [
      "(3500, 7)\n",
      "(3500, 28)\n",
      "(677, 7)\n",
      "(677, 28)\n"
     ]
    }
   ],
   "source": [
    "print(np.shape(x_train))\n",
    "print(np.shape(y_train))\n",
    "print(np.shape(x_test))\n",
    "print(np.shape(y_test))"
   ]
  },
  {
   "cell_type": "markdown",
   "metadata": {},
   "source": [
    "Network\n"
   ]
  },
  {
   "cell_type": "code",
   "execution_count": 158,
   "metadata": {},
   "outputs": [],
   "source": [
    "tf.reset_default_graph()"
   ]
  },
  {
   "cell_type": "code",
   "execution_count": 159,
   "metadata": {},
   "outputs": [],
   "source": [
    "X = tf.placeholder(dtype = tf.float32, shape = [None,7])\n",
    "Y = tf.placeholder(dtype = tf.float32, shape = [None,len(classes)])\n",
    "\n",
    "alpha = tf.placeholder(dtype = tf.float32, shape = None)"
   ]
  },
  {
   "cell_type": "code",
   "execution_count": 160,
   "metadata": {},
   "outputs": [],
   "source": [
    "dense1 = tf.layers.dense(inputs = X, units = 10 ,activation =tf.nn.tanh)\n",
    "dense2 = tf.layers.dense(inputs = dense1, units = 10, activation = tf.nn.tanh)\n",
    "output_softmax = tf.layers.dense(inputs = dense2, units = len(classes), activation = tf.nn.softmax)"
   ]
  },
  {
   "cell_type": "code",
   "execution_count": 161,
   "metadata": {},
   "outputs": [],
   "source": [
    "Y_original = tf.argmax(input=Y, axis=1)"
   ]
  },
  {
   "cell_type": "code",
   "execution_count": 162,
   "metadata": {},
   "outputs": [
    {
     "name": "stdout",
     "output_type": "stream",
     "text": [
      "(1, 28)\n"
     ]
    }
   ],
   "source": [
    "a = np.array(list(range(len(classes))),dtype = np.float32)\n",
    "a = np.reshape(a, [1,len(classes)])\n",
    "print(a.shape)"
   ]
  },
  {
   "cell_type": "code",
   "execution_count": 163,
   "metadata": {},
   "outputs": [
    {
     "data": {
      "text/plain": [
       "<tf.Tensor 'dense_2/Softmax:0' shape=(?, 28) dtype=float32>"
      ]
     },
     "execution_count": 163,
     "metadata": {},
     "output_type": "execute_result"
    }
   ],
   "source": [
    "output_softmax"
   ]
  },
  {
   "cell_type": "code",
   "execution_count": 164,
   "metadata": {},
   "outputs": [
    {
     "name": "stdout",
     "output_type": "stream",
     "text": [
      "Tensor(\"MatMul:0\", shape=(1, ?), dtype=float32)\n",
      "Tensor(\"Sub:0\", shape=(1, ?), dtype=float32)\n",
      "Tensor(\"Mul:0\", shape=(1, ?), dtype=float32)\n",
      "Tensor(\"Mean:0\", shape=(), dtype=float32)\n"
     ]
    }
   ],
   "source": [
    "loss1 = tf.matmul(a, tf.transpose(output_softmax))\n",
    "print(loss1)\n",
    "loss2 = tf.subtract(tf.cast(Y_original, dtype=tf.float32), loss1)\n",
    "print(loss2)\n",
    "loss3 = tf.multiply(loss2, loss2) # element-wise pow\n",
    "print(loss3)\n",
    "loss = tf.reduce_mean(loss3)\n",
    "print(loss)\n",
    "\n",
    "#loss = tf.subtract(tf.cast(Y,dtype=tf.float32),tf.pow( tf.matmul(a,tf.transpose(output)) ,2) ) "
   ]
  },
  {
   "cell_type": "code",
   "execution_count": 165,
   "metadata": {},
   "outputs": [],
   "source": [
    "#loss = tf.nn.softmax_cross_entropy_with_logits_v2(labels=Y, logits=output)"
   ]
  },
  {
   "cell_type": "code",
   "execution_count": 166,
   "metadata": {},
   "outputs": [],
   "source": [
    "output = tf.argmax(input=output_softmax, axis=1)"
   ]
  },
  {
   "cell_type": "code",
   "execution_count": 167,
   "metadata": {},
   "outputs": [],
   "source": [
    "trainer = tf.train.GradientDescentOptimizer(learning_rate= alpha)\n",
    "#trainer = tf.train.AdamOptimizer(learning_rate= alpha)\n",
    "\n",
    "train_operation = trainer.minimize(loss)"
   ]
  },
  {
   "cell_type": "markdown",
   "metadata": {},
   "source": [
    "Create Session and execute the graph"
   ]
  },
  {
   "cell_type": "code",
   "execution_count": 168,
   "metadata": {},
   "outputs": [],
   "source": [
    "train_epochs = 100000\n",
    "\n",
    "sess = tf.Session()"
   ]
  },
  {
   "cell_type": "code",
   "execution_count": 169,
   "metadata": {},
   "outputs": [
    {
     "name": "stdout",
     "output_type": "stream",
     "text": [
      "epoch 0: 76.00350189208984 - Accuracy: 0.048857142857142856\n",
      "epoch 100: 66.89299011230469 - Accuracy: 0.040285714285714286\n",
      "epoch 200: 66.64472961425781 - Accuracy: 0.036571428571428574\n",
      "epoch 300: 66.48311614990234 - Accuracy: 0.031714285714285716\n",
      "epoch 400: 66.28671264648438 - Accuracy: 0.029714285714285714\n",
      "epoch 500: 66.07418060302734 - Accuracy: 0.030857142857142857\n",
      "epoch 600: 65.89464569091797 - Accuracy: 0.030285714285714287\n",
      "epoch 700: 65.74847412109375 - Accuracy: 0.03\n",
      "epoch 800: 65.60372924804688 - Accuracy: 0.021714285714285714\n",
      "epoch 900: 65.44972229003906 - Accuracy: 0.017142857142857144\n",
      "epoch 1000: 65.28787231445312 - Accuracy: 0.019428571428571427\n",
      "epoch 1100: 65.12480163574219 - Accuracy: 0.022\n",
      "epoch 1200: 64.9684066772461 - Accuracy: 0.026857142857142857\n",
      "epoch 1300: 64.82247924804688 - Accuracy: 0.036571428571428574\n",
      "epoch 1400: 64.68788146972656 - Accuracy: 0.04371428571428571\n",
      "epoch 1500: 64.56522369384766 - Accuracy: 0.05342857142857143\n",
      "epoch 1600: 64.45494842529297 - Accuracy: 0.06314285714285714\n",
      "epoch 1700: 64.3565673828125 - Accuracy: 0.07028571428571428\n",
      "epoch 1800: 64.26788330078125 - Accuracy: 0.07285714285714286\n",
      "epoch 1900: 64.18571472167969 - Accuracy: 0.07342857142857143\n",
      "epoch 2000: 64.1075210571289 - Accuracy: 0.07371428571428572\n",
      "epoch 2100: 64.03196716308594 - Accuracy: 0.07228571428571429\n",
      "epoch 2200: 63.958518981933594 - Accuracy: 0.07028571428571428\n",
      "epoch 2300: 63.88716125488281 - Accuracy: 0.06971428571428571\n",
      "epoch 2400: 63.81831741333008 - Accuracy: 0.06742857142857143\n",
      "epoch 2500: 63.752445220947266 - Accuracy: 0.066\n",
      "epoch 2600: 63.68970489501953 - Accuracy: 0.06485714285714286\n",
      "epoch 2700: 63.62996292114258 - Accuracy: 0.061142857142857145\n",
      "epoch 2800: 63.57298278808594 - Accuracy: 0.06028571428571428\n",
      "epoch 2900: 63.51838302612305 - Accuracy: 0.05971428571428571\n",
      "epoch 3000: 63.46589660644531 - Accuracy: 0.05885714285714286\n",
      "epoch 3100: 63.415245056152344 - Accuracy: 0.05714285714285714\n",
      "epoch 3200: 63.36619186401367 - Accuracy: 0.055714285714285716\n",
      "epoch 3300: 63.31849670410156 - Accuracy: 0.055714285714285716\n",
      "epoch 3400: 63.27201461791992 - Accuracy: 0.055142857142857146\n",
      "epoch 3500: 63.226646423339844 - Accuracy: 0.055142857142857146\n",
      "epoch 3600: 63.18244552612305 - Accuracy: 0.055142857142857146\n",
      "epoch 3700: 63.1395263671875 - Accuracy: 0.054\n",
      "epoch 3800: 63.09799575805664 - Accuracy: 0.054\n",
      "epoch 3900: 63.05794143676758 - Accuracy: 0.05342857142857143\n",
      "epoch 4000: 63.01945114135742 - Accuracy: 0.052\n",
      "epoch 4100: 62.9825325012207 - Accuracy: 0.05085714285714286\n",
      "epoch 4200: 62.94706344604492 - Accuracy: 0.05028571428571429\n",
      "epoch 4300: 62.9129524230957 - Accuracy: 0.05\n",
      "epoch 4400: 62.8800163269043 - Accuracy: 0.047714285714285716\n",
      "epoch 4500: 62.84809875488281 - Accuracy: 0.04657142857142857\n",
      "epoch 4600: 62.81692886352539 - Accuracy: 0.045714285714285714\n",
      "epoch 4700: 62.78636932373047 - Accuracy: 0.04371428571428571\n",
      "epoch 4800: 62.75615310668945 - Accuracy: 0.04314285714285714\n",
      "epoch 4900: 62.72609329223633 - Accuracy: 0.04228571428571429\n",
      "epoch 5000: 62.6960563659668 - Accuracy: 0.04228571428571429\n",
      "epoch 5100: 62.66585159301758 - Accuracy: 0.04171428571428572\n",
      "epoch 5200: 62.63541030883789 - Accuracy: 0.04114285714285714\n",
      "epoch 5300: 62.604698181152344 - Accuracy: 0.040857142857142856\n",
      "epoch 5400: 62.573673248291016 - Accuracy: 0.04057142857142857\n",
      "epoch 5500: 62.542354583740234 - Accuracy: 0.04057142857142857\n",
      "epoch 5600: 62.510807037353516 - Accuracy: 0.04\n",
      "epoch 5700: 62.479007720947266 - Accuracy: 0.04\n",
      "epoch 5800: 62.44700622558594 - Accuracy: 0.04\n",
      "epoch 5900: 62.41466522216797 - Accuracy: 0.04\n",
      "epoch 6000: 62.38181686401367 - Accuracy: 0.03942857142857143\n",
      "epoch 6100: 62.34807586669922 - Accuracy: 0.039714285714285716\n",
      "epoch 6200: 62.3129768371582 - Accuracy: 0.04\n",
      "epoch 6300: 62.27678298950195 - Accuracy: 0.04057142857142857\n",
      "epoch 6400: 62.24111557006836 - Accuracy: 0.04\n",
      "epoch 6500: 62.20392990112305 - Accuracy: 0.04\n",
      "epoch 6600: 62.36503982543945 - Accuracy: 0.03742857142857143\n",
      "epoch 6700: 62.08246994018555 - Accuracy: 0.04057142857142857\n",
      "epoch 6800: 62.17352294921875 - Accuracy: 0.038\n",
      "epoch 6900: 62.04768753051758 - Accuracy: 0.040285714285714286\n",
      "epoch 7000: 62.06310272216797 - Accuracy: 0.038857142857142854\n",
      "epoch 7100: 62.00844192504883 - Accuracy: 0.039714285714285716\n",
      "epoch 7200: 61.9416389465332 - Accuracy: 0.04057142857142857\n",
      "epoch 7300: 61.72756576538086 - Accuracy: 0.045142857142857144\n",
      "epoch 7400: 61.87117385864258 - Accuracy: 0.04\n",
      "epoch 7500: 61.83744812011719 - Accuracy: 0.04057142857142857\n",
      "epoch 7600: 62.03765106201172 - Accuracy: 0.037714285714285714\n",
      "epoch 7700: 61.694580078125 - Accuracy: 0.047714285714285716\n",
      "epoch 7800: 61.831607818603516 - Accuracy: 0.037714285714285714\n",
      "epoch 7900: 61.63832092285156 - Accuracy: 0.041428571428571426\n",
      "epoch 8000: 61.68535614013672 - Accuracy: 0.03857142857142857\n",
      "epoch 8100: 61.66276931762695 - Accuracy: 0.03857142857142857\n",
      "epoch 8200: 61.57776641845703 - Accuracy: 0.04\n",
      "epoch 8300: 61.91535186767578 - Accuracy: 0.033428571428571426\n",
      "epoch 8400: 61.42523193359375 - Accuracy: 0.037142857142857144\n",
      "epoch 8500: 61.52085876464844 - Accuracy: 0.03542857142857143\n",
      "epoch 8600: 61.61747741699219 - Accuracy: 0.033428571428571426\n",
      "epoch 8700: 61.76549530029297 - Accuracy: 0.032\n",
      "epoch 8800: 61.86960220336914 - Accuracy: 0.03257142857142857\n",
      "epoch 8900: 61.70808792114258 - Accuracy: 0.032857142857142856\n",
      "epoch 9000: 61.6685791015625 - Accuracy: 0.032857142857142856\n",
      "epoch 9100: 61.74577713012695 - Accuracy: 0.03257142857142857\n",
      "epoch 9200: 61.72443771362305 - Accuracy: 0.032\n",
      "epoch 9300: 61.56764602661133 - Accuracy: 0.031714285714285716\n",
      "epoch 9400: 61.41456604003906 - Accuracy: 0.032\n",
      "epoch 9500: 61.293521881103516 - Accuracy: 0.034\n",
      "epoch 9600: 61.324954986572266 - Accuracy: 0.03457142857142857\n",
      "epoch 9700: 61.14841842651367 - Accuracy: 0.03457142857142857\n",
      "epoch 9800: 61.12194061279297 - Accuracy: 0.034\n",
      "epoch 9900: 61.532039642333984 - Accuracy: 0.032\n"
     ]
    },
    {
     "ename": "KeyboardInterrupt",
     "evalue": "",
     "output_type": "error",
     "traceback": [
      "\u001b[0;31m---------------------------------------------------------------------------\u001b[0m",
      "\u001b[0;31mKeyboardInterrupt\u001b[0m                         Traceback (most recent call last)",
      "\u001b[0;32m<ipython-input-169-0ee4a1a32034>\u001b[0m in \u001b[0;36m<module>\u001b[0;34m()\u001b[0m\n\u001b[1;32m      4\u001b[0m     output_, loss_, Y_original_, train_operation_ = sess.run([output, loss, Y_original, train_operation],\n\u001b[1;32m      5\u001b[0m                                                feed_dict={X: x_train, Y: y_train,\n\u001b[0;32m----> 6\u001b[0;31m                                                          alpha: 0.015})\n\u001b[0m\u001b[1;32m      7\u001b[0m \u001b[0;34m\u001b[0m\u001b[0m\n\u001b[1;32m      8\u001b[0m     \u001b[0;32mif\u001b[0m \u001b[0;32mnot\u001b[0m \u001b[0;34m(\u001b[0m\u001b[0mepoch\u001b[0m \u001b[0;34m%\u001b[0m \u001b[0;36m100\u001b[0m\u001b[0;34m)\u001b[0m\u001b[0;34m:\u001b[0m\u001b[0;34m\u001b[0m\u001b[0m\n",
      "\u001b[0;32m/usr/local/lib/python3.6/dist-packages/tensorflow/python/client/session.py\u001b[0m in \u001b[0;36mrun\u001b[0;34m(self, fetches, feed_dict, options, run_metadata)\u001b[0m\n\u001b[1;32m    898\u001b[0m     \u001b[0;32mtry\u001b[0m\u001b[0;34m:\u001b[0m\u001b[0;34m\u001b[0m\u001b[0m\n\u001b[1;32m    899\u001b[0m       result = self._run(None, fetches, feed_dict, options_ptr,\n\u001b[0;32m--> 900\u001b[0;31m                          run_metadata_ptr)\n\u001b[0m\u001b[1;32m    901\u001b[0m       \u001b[0;32mif\u001b[0m \u001b[0mrun_metadata\u001b[0m\u001b[0;34m:\u001b[0m\u001b[0;34m\u001b[0m\u001b[0m\n\u001b[1;32m    902\u001b[0m         \u001b[0mproto_data\u001b[0m \u001b[0;34m=\u001b[0m \u001b[0mtf_session\u001b[0m\u001b[0;34m.\u001b[0m\u001b[0mTF_GetBuffer\u001b[0m\u001b[0;34m(\u001b[0m\u001b[0mrun_metadata_ptr\u001b[0m\u001b[0;34m)\u001b[0m\u001b[0;34m\u001b[0m\u001b[0m\n",
      "\u001b[0;32m/usr/local/lib/python3.6/dist-packages/tensorflow/python/client/session.py\u001b[0m in \u001b[0;36m_run\u001b[0;34m(self, handle, fetches, feed_dict, options, run_metadata)\u001b[0m\n\u001b[1;32m   1133\u001b[0m     \u001b[0;32mif\u001b[0m \u001b[0mfinal_fetches\u001b[0m \u001b[0;32mor\u001b[0m \u001b[0mfinal_targets\u001b[0m \u001b[0;32mor\u001b[0m \u001b[0;34m(\u001b[0m\u001b[0mhandle\u001b[0m \u001b[0;32mand\u001b[0m \u001b[0mfeed_dict_tensor\u001b[0m\u001b[0;34m)\u001b[0m\u001b[0;34m:\u001b[0m\u001b[0;34m\u001b[0m\u001b[0m\n\u001b[1;32m   1134\u001b[0m       results = self._do_run(handle, final_targets, final_fetches,\n\u001b[0;32m-> 1135\u001b[0;31m                              feed_dict_tensor, options, run_metadata)\n\u001b[0m\u001b[1;32m   1136\u001b[0m     \u001b[0;32melse\u001b[0m\u001b[0;34m:\u001b[0m\u001b[0;34m\u001b[0m\u001b[0m\n\u001b[1;32m   1137\u001b[0m       \u001b[0mresults\u001b[0m \u001b[0;34m=\u001b[0m \u001b[0;34m[\u001b[0m\u001b[0;34m]\u001b[0m\u001b[0;34m\u001b[0m\u001b[0m\n",
      "\u001b[0;32m/usr/local/lib/python3.6/dist-packages/tensorflow/python/client/session.py\u001b[0m in \u001b[0;36m_do_run\u001b[0;34m(self, handle, target_list, fetch_list, feed_dict, options, run_metadata)\u001b[0m\n\u001b[1;32m   1314\u001b[0m     \u001b[0;32mif\u001b[0m \u001b[0mhandle\u001b[0m \u001b[0;32mis\u001b[0m \u001b[0;32mNone\u001b[0m\u001b[0;34m:\u001b[0m\u001b[0;34m\u001b[0m\u001b[0m\n\u001b[1;32m   1315\u001b[0m       return self._do_call(_run_fn, feeds, fetches, targets, options,\n\u001b[0;32m-> 1316\u001b[0;31m                            run_metadata)\n\u001b[0m\u001b[1;32m   1317\u001b[0m     \u001b[0;32melse\u001b[0m\u001b[0;34m:\u001b[0m\u001b[0;34m\u001b[0m\u001b[0m\n\u001b[1;32m   1318\u001b[0m       \u001b[0;32mreturn\u001b[0m \u001b[0mself\u001b[0m\u001b[0;34m.\u001b[0m\u001b[0m_do_call\u001b[0m\u001b[0;34m(\u001b[0m\u001b[0m_prun_fn\u001b[0m\u001b[0;34m,\u001b[0m \u001b[0mhandle\u001b[0m\u001b[0;34m,\u001b[0m \u001b[0mfeeds\u001b[0m\u001b[0;34m,\u001b[0m \u001b[0mfetches\u001b[0m\u001b[0;34m)\u001b[0m\u001b[0;34m\u001b[0m\u001b[0m\n",
      "\u001b[0;32m/usr/local/lib/python3.6/dist-packages/tensorflow/python/client/session.py\u001b[0m in \u001b[0;36m_do_call\u001b[0;34m(self, fn, *args)\u001b[0m\n\u001b[1;32m   1320\u001b[0m   \u001b[0;32mdef\u001b[0m \u001b[0m_do_call\u001b[0m\u001b[0;34m(\u001b[0m\u001b[0mself\u001b[0m\u001b[0;34m,\u001b[0m \u001b[0mfn\u001b[0m\u001b[0;34m,\u001b[0m \u001b[0;34m*\u001b[0m\u001b[0margs\u001b[0m\u001b[0;34m)\u001b[0m\u001b[0;34m:\u001b[0m\u001b[0;34m\u001b[0m\u001b[0m\n\u001b[1;32m   1321\u001b[0m     \u001b[0;32mtry\u001b[0m\u001b[0;34m:\u001b[0m\u001b[0;34m\u001b[0m\u001b[0m\n\u001b[0;32m-> 1322\u001b[0;31m       \u001b[0;32mreturn\u001b[0m \u001b[0mfn\u001b[0m\u001b[0;34m(\u001b[0m\u001b[0;34m*\u001b[0m\u001b[0margs\u001b[0m\u001b[0;34m)\u001b[0m\u001b[0;34m\u001b[0m\u001b[0m\n\u001b[0m\u001b[1;32m   1323\u001b[0m     \u001b[0;32mexcept\u001b[0m \u001b[0merrors\u001b[0m\u001b[0;34m.\u001b[0m\u001b[0mOpError\u001b[0m \u001b[0;32mas\u001b[0m \u001b[0me\u001b[0m\u001b[0;34m:\u001b[0m\u001b[0;34m\u001b[0m\u001b[0m\n\u001b[1;32m   1324\u001b[0m       \u001b[0mmessage\u001b[0m \u001b[0;34m=\u001b[0m \u001b[0mcompat\u001b[0m\u001b[0;34m.\u001b[0m\u001b[0mas_text\u001b[0m\u001b[0;34m(\u001b[0m\u001b[0me\u001b[0m\u001b[0;34m.\u001b[0m\u001b[0mmessage\u001b[0m\u001b[0;34m)\u001b[0m\u001b[0;34m\u001b[0m\u001b[0m\n",
      "\u001b[0;32m/usr/local/lib/python3.6/dist-packages/tensorflow/python/client/session.py\u001b[0m in \u001b[0;36m_run_fn\u001b[0;34m(feed_dict, fetch_list, target_list, options, run_metadata)\u001b[0m\n\u001b[1;32m   1305\u001b[0m       \u001b[0mself\u001b[0m\u001b[0;34m.\u001b[0m\u001b[0m_extend_graph\u001b[0m\u001b[0;34m(\u001b[0m\u001b[0;34m)\u001b[0m\u001b[0;34m\u001b[0m\u001b[0m\n\u001b[1;32m   1306\u001b[0m       return self._call_tf_sessionrun(\n\u001b[0;32m-> 1307\u001b[0;31m           options, feed_dict, fetch_list, target_list, run_metadata)\n\u001b[0m\u001b[1;32m   1308\u001b[0m \u001b[0;34m\u001b[0m\u001b[0m\n\u001b[1;32m   1309\u001b[0m     \u001b[0;32mdef\u001b[0m \u001b[0m_prun_fn\u001b[0m\u001b[0;34m(\u001b[0m\u001b[0mhandle\u001b[0m\u001b[0;34m,\u001b[0m \u001b[0mfeed_dict\u001b[0m\u001b[0;34m,\u001b[0m \u001b[0mfetch_list\u001b[0m\u001b[0;34m)\u001b[0m\u001b[0;34m:\u001b[0m\u001b[0;34m\u001b[0m\u001b[0m\n",
      "\u001b[0;32m/usr/local/lib/python3.6/dist-packages/tensorflow/python/client/session.py\u001b[0m in \u001b[0;36m_call_tf_sessionrun\u001b[0;34m(self, options, feed_dict, fetch_list, target_list, run_metadata)\u001b[0m\n\u001b[1;32m   1407\u001b[0m       return tf_session.TF_SessionRun_wrapper(\n\u001b[1;32m   1408\u001b[0m           \u001b[0mself\u001b[0m\u001b[0;34m.\u001b[0m\u001b[0m_session\u001b[0m\u001b[0;34m,\u001b[0m \u001b[0moptions\u001b[0m\u001b[0;34m,\u001b[0m \u001b[0mfeed_dict\u001b[0m\u001b[0;34m,\u001b[0m \u001b[0mfetch_list\u001b[0m\u001b[0;34m,\u001b[0m \u001b[0mtarget_list\u001b[0m\u001b[0;34m,\u001b[0m\u001b[0;34m\u001b[0m\u001b[0m\n\u001b[0;32m-> 1409\u001b[0;31m           run_metadata)\n\u001b[0m\u001b[1;32m   1410\u001b[0m     \u001b[0;32melse\u001b[0m\u001b[0;34m:\u001b[0m\u001b[0;34m\u001b[0m\u001b[0m\n\u001b[1;32m   1411\u001b[0m       \u001b[0;32mwith\u001b[0m \u001b[0merrors\u001b[0m\u001b[0;34m.\u001b[0m\u001b[0mraise_exception_on_not_ok_status\u001b[0m\u001b[0;34m(\u001b[0m\u001b[0;34m)\u001b[0m \u001b[0;32mas\u001b[0m \u001b[0mstatus\u001b[0m\u001b[0;34m:\u001b[0m\u001b[0;34m\u001b[0m\u001b[0m\n",
      "\u001b[0;31mKeyboardInterrupt\u001b[0m: "
     ]
    }
   ],
   "source": [
    "sess.run(tf.global_variables_initializer())\n",
    "\n",
    "for epoch in range(train_epochs):\n",
    "    output_, loss_, Y_original_, train_operation_ = sess.run([output, loss, Y_original, train_operation],\n",
    "                                               feed_dict={X: x_train, Y: y_train,\n",
    "                                                         alpha: 0.015})\n",
    "    \n",
    "    if not (epoch % 100):\n",
    "        print(\"epoch {}: {} - Accuracy: {}\".format(epoch, loss_, accuracy_score(y_true=Y_original_, y_pred=np.round(output_))))\n",
    "\n",
    "output_, Y_original_, loss_ = sess.run([output, Y_original, loss], feed_dict={X: x_test, Y: y_test})\n",
    "print(\"TEST: {} - Accuracy: {}\".format(loss_, accuracy_score(Y_original_, np.round(output_))))"
   ]
  },
  {
   "cell_type": "code",
   "execution_count": null,
   "metadata": {},
   "outputs": [],
   "source": []
  },
  {
   "cell_type": "code",
   "execution_count": null,
   "metadata": {},
   "outputs": [],
   "source": []
  }
 ],
 "metadata": {
  "kernelspec": {
   "display_name": "Python 3",
   "language": "python",
   "name": "python3"
  },
  "language_info": {
   "codemirror_mode": {
    "name": "ipython",
    "version": 3
   },
   "file_extension": ".py",
   "mimetype": "text/x-python",
   "name": "python",
   "nbconvert_exporter": "python",
   "pygments_lexer": "ipython3",
   "version": "3.6.6"
  }
 },
 "nbformat": 4,
 "nbformat_minor": 2
}
