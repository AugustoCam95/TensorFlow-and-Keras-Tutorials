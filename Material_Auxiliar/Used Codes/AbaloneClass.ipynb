{
 "cells": [
  {
   "cell_type": "code",
   "execution_count": 3,
   "metadata": {},
   "outputs": [],
   "source": [
    "from __future__ import division\n",
    "\n",
    "import sys\n",
    "import numpy as np\n",
    "import tensorflow as tf\n",
    "from sklearn.metrics import accuracy_score"
   ]
  },
  {
   "cell_type": "markdown",
   "metadata": {},
   "source": [
    "### Pre-processamento"
   ]
  },
  {
   "cell_type": "code",
   "execution_count": 4,
   "metadata": {},
   "outputs": [],
   "source": [
    "dataAbalone = np.loadtxt(\"abalone.data\", dtype = str, delimiter = ',')\n",
    "linha =  dataAbalone.shape[0]\n",
    "coluna = dataAbalone.shape[1]"
   ]
  },
  {
   "cell_type": "code",
   "execution_count": 5,
   "metadata": {},
   "outputs": [
    {
     "name": "stdout",
     "output_type": "stream",
     "text": [
      "Shape: 4177,9\n"
     ]
    },
    {
     "data": {
      "text/plain": [
       "array([['M', '0.455', '0.365', ..., '0.101', '0.15', '15'],\n",
       "       ['M', '0.35', '0.265', ..., '0.0485', '0.07', '7'],\n",
       "       ['F', '0.53', '0.42', ..., '0.1415', '0.21', '9'],\n",
       "       ...,\n",
       "       ['M', '0.6', '0.475', ..., '0.2875', '0.308', '9'],\n",
       "       ['F', '0.625', '0.485', ..., '0.261', '0.296', '10'],\n",
       "       ['M', '0.71', '0.555', ..., '0.3765', '0.495', '12']], dtype='<U6')"
      ]
     },
     "execution_count": 5,
     "metadata": {},
     "output_type": "execute_result"
    }
   ],
   "source": [
    "print(\"Shape: {},{}\".format(linha, coluna))\n",
    "dataAbalone"
   ]
  },
  {
   "cell_type": "code",
   "execution_count": 6,
   "metadata": {},
   "outputs": [],
   "source": [
    "count1 = 0\n",
    "count2 = 0\n",
    "count3 = 0\n",
    "\n",
    "for i in range(linha):\n",
    "    for j in range(coluna):\n",
    "        if(dataAbalone[i,j] == 'M'):\n",
    "            count1 = count1 + 1 \n",
    "        if(dataAbalone[i,j] == 'F'):\n",
    "            count2 = count2 + 1\n",
    "        if(dataAbalone[i,j] == 'I'):\n",
    "            count3 = count3 + 1"
   ]
  },
  {
   "cell_type": "code",
   "execution_count": 7,
   "metadata": {},
   "outputs": [],
   "source": [
    "dataAbaloneM = []\n",
    "dataAbaloneF = []\n",
    "dataAbaloneI = []"
   ]
  },
  {
   "cell_type": "code",
   "execution_count": 8,
   "metadata": {},
   "outputs": [
    {
     "name": "stdout",
     "output_type": "stream",
     "text": [
      "MATRIZES:\n",
      "\n",
      "[]\n",
      "[]\n",
      "[]\n"
     ]
    }
   ],
   "source": [
    "print(\"MATRIZES:\\n\")\n",
    "print(dataAbaloneM)\n",
    "print(dataAbaloneF)\n",
    "print(dataAbaloneI)"
   ]
  },
  {
   "cell_type": "code",
   "execution_count": 9,
   "metadata": {},
   "outputs": [],
   "source": [
    "for i in range(linha):   \n",
    "    if(dataAbalone[i,0] == \"M\"):\n",
    "        dataAbaloneM.append(dataAbalone[i,:]) \n",
    "    if(dataAbalone[i,0] == \"F\"):\n",
    "        dataAbaloneF.append(dataAbalone[i,:])\n",
    "    if(dataAbalone[i,0] == \"I\"):\n",
    "        dataAbaloneI.append(dataAbalone[i,:])\n"
   ]
  },
  {
   "cell_type": "code",
   "execution_count": 10,
   "metadata": {},
   "outputs": [
    {
     "name": "stdout",
     "output_type": "stream",
     "text": [
      "MATRIZES:\n",
      "\n",
      "1528\n",
      "1307\n",
      "1342\n"
     ]
    }
   ],
   "source": [
    "print(\"MATRIZES:\\n\")\n",
    "print(len(dataAbaloneM))\n",
    "print(len(dataAbaloneF))\n",
    "print(len(dataAbaloneI))"
   ]
  },
  {
   "cell_type": "markdown",
   "metadata": {},
   "source": [
    "### MONTANDO ONE_HOT \n"
   ]
  },
  {
   "cell_type": "markdown",
   "metadata": {},
   "source": [
    "### Separando dataset em treino e em teste"
   ]
  },
  {
   "cell_type": "markdown",
   "metadata": {},
   "source": [
    "### Network( simples MLP )"
   ]
  },
  {
   "cell_type": "code",
   "execution_count": 18,
   "metadata": {},
   "outputs": [],
   "source": [
    "tf.reset_default_graph()"
   ]
  },
  {
   "cell_type": "code",
   "execution_count": 19,
   "metadata": {},
   "outputs": [],
   "source": [
    "X = tf.placeholder(dtype = tf.float32, shape = [None,6])\n",
    "Y = tf.placeholder(dtype = tf.float32, shape = [None, len(classesm)])\n",
    "\n",
    "alpha = tf.placeholder(dtype = tf.float32, shape = None)"
   ]
  },
  {
   "cell_type": "code",
   "execution_count": 20,
   "metadata": {},
   "outputs": [],
   "source": [
    "dense1 = tf.layers.dense(inputs= X, units = 10, activation= tf.sigmoid)\n",
    "dense2 = tf.layers.dense(inputs= dense1, units = 10, activation= tf.sigmoid)\n",
    "#output_softmax = tf.layers.dense(inputs = dense2, units = len(classes), activation = tf.nn.softmax)"
   ]
  },
  {
   "cell_type": "code",
   "execution_count": 21,
   "metadata": {},
   "outputs": [],
   "source": [
    "output = tf.layers.dense(inputs = dense2, units = len(classesm))"
   ]
  },
  {
   "cell_type": "code",
   "execution_count": 22,
   "metadata": {},
   "outputs": [],
   "source": [
    "#Y_original = tf.argmax(input=Y, axis=1)"
   ]
  },
  {
   "cell_type": "code",
   "execution_count": 23,
   "metadata": {},
   "outputs": [],
   "source": [
    "#a = np.array(list(range(len(classes))),dtype = np.float32)\n",
    "#a = np.reshape(a, [1,len(classes)])\n",
    "#print(a.shape)"
   ]
  },
  {
   "cell_type": "code",
   "execution_count": 24,
   "metadata": {},
   "outputs": [],
   "source": [
    "#loss1 = tf.matmul(a, tf.transpose(output_softmax))\n",
    "#print(loss1)\n",
    "#loss2 = tf.subtract(tf.cast(Y_original, dtype=tf.float32), loss1)\n",
    "#print(loss2)\n",
    "#loss3 = tf.multiply(loss2, loss2) # element-wise pow\n",
    "#print(loss3)\n",
    "#loss = tf.reduce_mean(loss3)\n",
    "#print(loss)"
   ]
  },
  {
   "cell_type": "code",
   "execution_count": 25,
   "metadata": {},
   "outputs": [],
   "source": [
    "#output = tf.argmax(input=output_softmax, axis=1)"
   ]
  },
  {
   "cell_type": "code",
   "execution_count": 26,
   "metadata": {},
   "outputs": [],
   "source": [
    "loss = tf.losses.softmax_cross_entropy(Y, output)"
   ]
  },
  {
   "cell_type": "code",
   "execution_count": 27,
   "metadata": {},
   "outputs": [],
   "source": [
    "trainer = tf.train.GradientDescentOptimizer( learning_rate = alpha)\n",
    "\n",
    "train_operation = trainer.minimize(loss)"
   ]
  },
  {
   "cell_type": "markdown",
   "metadata": {},
   "source": [
    "### Criando seção e executando o grafo"
   ]
  },
  {
   "cell_type": "code",
   "execution_count": 28,
   "metadata": {},
   "outputs": [],
   "source": [
    "def compute_accuracy(real, output):\n",
    "    pred_real = np.argmax(real, axis = 1)\n",
    "    pred_output = np.argmax(output, axis = 1)\n",
    "    \n",
    "    return sum(pred_real == pred_output)/float(len(real))"
   ]
  },
  {
   "cell_type": "code",
   "execution_count": 29,
   "metadata": {},
   "outputs": [],
   "source": [
    "train_epochs = 100000\n",
    "\n",
    "sess = tf.Session()"
   ]
  },
  {
   "cell_type": "code",
   "execution_count": 30,
   "metadata": {},
   "outputs": [
    {
     "name": "stdout",
     "output_type": "stream",
     "text": [
      "epoch 0: 3.229910135269165 - Accuracy: 0.008008008008008008\n",
      "epoch 10000: 1.969677448272705 - Accuracy: 0.2782782782782783\n",
      "epoch 20000: 1.9211312532424927 - Accuracy: 0.2802802802802803\n",
      "epoch 30000: 1.8974831104278564 - Accuracy: 0.28428428428428426\n",
      "epoch 40000: 1.8792673349380493 - Accuracy: 0.2872872872872873\n",
      "epoch 50000: 1.8732422590255737 - Accuracy: 0.2962962962962963\n",
      "epoch 60000: 1.8512588739395142 - Accuracy: 0.2922922922922923\n",
      "epoch 70000: 1.8405786752700806 - Accuracy: 0.2992992992992993\n",
      "epoch 80000: 1.8325867652893066 - Accuracy: 0.3053053053053053\n",
      "epoch 90000: 1.8251762390136719 - Accuracy: 0.3063063063063063\n"
     ]
    }
   ],
   "source": [
    "sess.run(tf.global_variables_initializer())\n",
    "\n",
    "for epoch in range(train_epochs):\n",
    "    output_, loss_, train_operation_ = sess.run([output, loss, train_operation],\n",
    "                                               feed_dict = {X:xi_train, Y: yi_train,\n",
    "                                                           alpha: 0.75})\n",
    "    if not (epoch % 10000):   \n",
    "        print(\"epoch {}: {} - Accuracy: {}\".format(epoch, loss_, compute_accuracy(yf_train, output_)))"
   ]
  },
  {
   "cell_type": "code",
   "execution_count": 32,
   "metadata": {},
   "outputs": [
    {
     "name": "stdout",
     "output_type": "stream",
     "text": [
      "0.2099125364431487\n"
     ]
    }
   ],
   "source": [
    "# Test\n",
    "output_, loss_ = sess.run([output, loss], feed_dict={X: xi_test, Y: yi_test})\n",
    "    \n",
    "print(compute_accuracy(yi_test, output_))"
   ]
  },
  {
   "cell_type": "code",
   "execution_count": null,
   "metadata": {},
   "outputs": [],
   "source": []
  },
  {
   "cell_type": "code",
   "execution_count": null,
   "metadata": {},
   "outputs": [],
   "source": []
  },
  {
   "cell_type": "code",
   "execution_count": null,
   "metadata": {},
   "outputs": [],
   "source": []
  }
 ],
 "metadata": {
  "kernelspec": {
   "display_name": "Python 3",
   "language": "python",
   "name": "python3"
  },
  "language_info": {
   "codemirror_mode": {
    "name": "ipython",
    "version": 3
   },
   "file_extension": ".py",
   "mimetype": "text/x-python",
   "name": "python",
   "nbconvert_exporter": "python",
   "pygments_lexer": "ipython3",
   "version": "3.6.5"
  }
 },
 "nbformat": 4,
 "nbformat_minor": 2
}
