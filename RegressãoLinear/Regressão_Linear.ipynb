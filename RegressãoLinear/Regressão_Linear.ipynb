{
 "cells": [
  {
   "cell_type": "markdown",
   "metadata": {},
   "source": [
    "<h1 align=center><font size = 8><strong>Exemplo regressão linear univariada</strong></font></h1>"
   ]
  },
  {
   "cell_type": "markdown",
   "metadata": {},
   "source": [
    "# Imports"
   ]
  },
  {
   "cell_type": "code",
   "execution_count": 127,
   "metadata": {},
   "outputs": [],
   "source": [
    "from __future__ import division, print_function, unicode_literals\n",
    "import numpy as np\n",
    "import matplotlib.pyplot as plt\n",
    "%matplotlib inline"
   ]
  },
  {
   "cell_type": "markdown",
   "metadata": {},
   "source": [
    "# Pré-processamento"
   ]
  },
  {
   "cell_type": "code",
   "execution_count": 128,
   "metadata": {},
   "outputs": [],
   "source": [
    "data = np.loadtxt(\"dataset_regressao01.txt\", dtype = float, delimiter = ',')"
   ]
  },
  {
   "cell_type": "code",
   "execution_count": 129,
   "metadata": {},
   "outputs": [],
   "source": [
    "X = data[:,0]\n",
    "Y = data[:,1]"
   ]
  },
  {
   "cell_type": "code",
   "execution_count": 130,
   "metadata": {},
   "outputs": [
    {
     "data": {
      "text/plain": [
       "array([6.1101, 5.5277, 8.5186, 7.0032, 5.8598, 8.3829, 7.4764, 8.5781,\n",
       "       6.4862, 5.0546])"
      ]
     },
     "execution_count": 130,
     "metadata": {},
     "output_type": "execute_result"
    }
   ],
   "source": [
    "X[0:10]"
   ]
  },
  {
   "cell_type": "code",
   "execution_count": 131,
   "metadata": {},
   "outputs": [
    {
     "data": {
      "text/plain": [
       "array([17.592 ,  9.1302, 13.662 , 11.854 ,  6.8233, 11.886 ,  4.3483,\n",
       "       12.    ,  6.5987,  3.8166])"
      ]
     },
     "execution_count": 131,
     "metadata": {},
     "output_type": "execute_result"
    }
   ],
   "source": [
    "Y[0:10]"
   ]
  },
  {
   "cell_type": "code",
   "execution_count": 132,
   "metadata": {},
   "outputs": [],
   "source": [
    "# Visualização dos dados"
   ]
  },
  {
   "cell_type": "code",
   "execution_count": 133,
   "metadata": {},
   "outputs": [
    {
     "data": {
      "image/png": "[encoded data removed]",
      "text/plain": [
       "<Figure size 432x288 with 1 Axes>"
      ]
     },
     "metadata": {
      "needs_background": "light"
     },
     "output_type": "display_data"
    }
   ],
   "source": [
    "plt.plot(X,\"b+\")\n",
    "plt.plot(Y,\"r+\")\n",
    "plt.show()"
   ]
  },
  {
   "cell_type": "code",
   "execution_count": 134,
   "metadata": {},
   "outputs": [
    {
     "data": {
      "image/png": "[encoded data removed]",
      "text/plain": [
       "<Figure size 432x288 with 1 Axes>"
      ]
     },
     "metadata": {
      "needs_background": "light"
     },
     "output_type": "display_data"
    }
   ],
   "source": [
    "plt.scatter(X,Y)\n",
    "plt.show()"
   ]
  },
  {
   "cell_type": "code",
   "execution_count": null,
   "metadata": {},
   "outputs": [],
   "source": [
    "x = np.ones((data.shape[0],2))\n",
    "x[:,1] = X\n",
    "y = Y"
   ]
  },
  {
   "cell_type": "code",
   "execution_count": null,
   "metadata": {},
   "outputs": [],
   "source": [
    "x[:10]"
   ]
  },
  {
   "cell_type": "markdown",
   "metadata": {},
   "source": [
    "# Separando os labels em conjuntos de treino e teste"
   ]
  },
  {
   "cell_type": "code",
   "execution_count": null,
   "metadata": {},
   "outputs": [],
   "source": [
    "X_train = x[:-20]\n",
    "X_test =  x[-20:]\n",
    "y_train = y[:-20]\n",
    "y_test = y[-20:]"
   ]
  },
  {
   "cell_type": "code",
   "execution_count": null,
   "metadata": {},
   "outputs": [],
   "source": [
    "X_train.shape, y_train.shape, X_test.shape, y_test.shape"
   ]
  },
  {
   "cell_type": "markdown",
   "metadata": {},
   "source": [
    "# Definindo pesos"
   ]
  },
  {
   "cell_type": "code",
   "execution_count": null,
   "metadata": {},
   "outputs": [],
   "source": [
    "w = np.zeros((2,1))\n",
    "print(w[0])\n",
    "print(len(w))"
   ]
  },
  {
   "cell_type": "markdown",
   "metadata": {},
   "source": [
    "# Setando parâmetros"
   ]
  },
  {
   "cell_type": "code",
   "execution_count": null,
   "metadata": {},
   "outputs": [],
   "source": [
    "\n",
    "learning_rate = 0.0005\n",
    "n_epochs = 1000\n",
    "n = X_train.shape[0]\n",
    "eqm = []"
   ]
  },
  {
   "cell_type": "markdown",
   "metadata": {},
   "source": [
    "# Rodando o modelo iterativamente"
   ]
  },
  {
   "cell_type": "code",
   "execution_count": null,
   "metadata": {},
   "outputs": [],
   "source": [
    "for i in range(n_epochs):\n",
    "    ind = np.random.permutation(n)\n",
    "    x = X_train[ind,:]\n",
    "    y = y_train[ind]\n",
    "    erro_total = 0\n",
    "    for j in range(n):\n",
    "        y_barra = np.matmul(X_train[j,:],w)\n",
    "        erro = y_train[j] - y_barra[0]\n",
    "        erro_total = erro_total + ((erro*erro))\n",
    "        w[0] = w[0] + (learning_rate*erro)\n",
    "        w[1] = w[1] + (learning_rate*erro*X_train[j,1])\n",
    "    eqm.append(erro_total/float(n))\n",
    "    \n",
    "eixo_x = range(0,n_epochs)\n",
    "\n",
    "plt.plot(eixo_x,eqm)\n",
    "plt.ylabel(\"EQM\")\n",
    "plt.xlim((0,n_epochs))\n",
    "plt.xlabel(\"Epochs\")\n",
    "plt.show()"
   ]
  },
  {
   "cell_type": "markdown",
   "metadata": {},
   "source": [
    "# Obtendo pesos finais, calculando o y predito e o erro quadrado médio"
   ]
  },
  {
   "cell_type": "code",
   "execution_count": null,
   "metadata": {},
   "outputs": [],
   "source": [
    "# exibindo os pesos finais\n",
    "a,b = w[0],w[1]\n",
    "print(a)\n",
    "print(b)"
   ]
  },
  {
   "cell_type": "code",
   "execution_count": null,
   "metadata": {},
   "outputs": [],
   "source": [
    "# calculando y_pred e exibindo\n",
    "y_pred = (b*X_test[:,1])+a\n",
    "print(y_pred)"
   ]
  },
  {
   "cell_type": "code",
   "execution_count": null,
   "metadata": {},
   "outputs": [],
   "source": [
    "# calculando erro quadrado médio e exibindo\n",
    "mse = np.mean((y_test - y_pred)**2)\n",
    "print(mse)"
   ]
  },
  {
   "cell_type": "code",
   "execution_count": null,
   "metadata": {},
   "outputs": [],
   "source": [
    "eqm[-1]"
   ]
  },
  {
   "cell_type": "markdown",
   "metadata": {},
   "source": [
    "----------------------------------------------"
   ]
  },
  {
   "cell_type": "markdown",
   "metadata": {},
   "source": [
    "<h1 align=center><font size = 8><strong>Exemplo regressão linear univariada com Scikit Learn</strong></font></h1>\n"
   ]
  },
  {
   "cell_type": "markdown",
   "metadata": {},
   "source": [
    "<a href=\"https://scikit-learn.org/stable/\"><img src = \"https://upload.wikimedia.org/wikipedia/commons/thumb/0/05/Scikit_learn_logo_small.svg/260px-Scikit_learn_logo_small.svg.png\" width = 250, align = \"center\"></a>"
   ]
  },
  {
   "cell_type": "markdown",
   "metadata": {},
   "source": [
    "# Imports"
   ]
  },
  {
   "cell_type": "code",
   "execution_count": null,
   "metadata": {},
   "outputs": [],
   "source": [
    "import matplotlib.pyplot as plt\n",
    "import numpy as np\n",
    "from sklearn import linear_model\n",
    "from sklearn.metrics import mean_squared_error"
   ]
  },
  {
   "cell_type": "markdown",
   "metadata": {},
   "source": [
    "# Pré-processamento"
   ]
  },
  {
   "cell_type": "code",
   "execution_count": null,
   "metadata": {},
   "outputs": [],
   "source": [
    "data = np.loadtxt(\"dataset_regressao01.txt\", dtype = float, delimiter = ',')"
   ]
  },
  {
   "cell_type": "code",
   "execution_count": null,
   "metadata": {},
   "outputs": [],
   "source": [
    "X = data[:,0]\n",
    "Y = data[:,1]"
   ]
  },
  {
   "cell_type": "code",
   "execution_count": null,
   "metadata": {},
   "outputs": [],
   "source": [
    "print(\"Shape de x:\",X.shape)\n",
    "print(\"Shape de y:\",Y.shape)"
   ]
  },
  {
   "cell_type": "markdown",
   "metadata": {},
   "source": [
    "# Separando os conjuntos de treino e teste"
   ]
  },
  {
   "cell_type": "code",
   "execution_count": null,
   "metadata": {},
   "outputs": [],
   "source": [
    "X_train = X[:-20]\n",
    "X_test =  X[-20:]\n",
    "y_train = Y[:-20]\n",
    "y_test = Y[-20:]"
   ]
  },
  {
   "cell_type": "code",
   "execution_count": null,
   "metadata": {},
   "outputs": [],
   "source": [
    "X_train = X_train[:,np.newaxis]\n",
    "X_test = X_test[:,np.newaxis]"
   ]
  },
  {
   "cell_type": "markdown",
   "metadata": {},
   "source": [
    "# Usando Scikit-Learn"
   ]
  },
  {
   "cell_type": "code",
   "execution_count": null,
   "metadata": {},
   "outputs": [],
   "source": [
    "# regr vai ser nosso objeto da regressão linear\n",
    "regr = linear_model.LinearRegression()"
   ]
  },
  {
   "cell_type": "code",
   "execution_count": null,
   "metadata": {},
   "outputs": [],
   "source": [
    "# Vamos agora dar o \"fit\" para treinar com os conjuntos de treino \n",
    "regr.fit(X_train, y_train)"
   ]
  },
  {
   "cell_type": "code",
   "execution_count": null,
   "metadata": {},
   "outputs": [],
   "source": [
    "# Usar o .predict para extrair as prediçoes usando o conjunto de teste\n",
    "y_pred = regr.predict(X_test)"
   ]
  },
  {
   "cell_type": "code",
   "execution_count": null,
   "metadata": {},
   "outputs": [],
   "source": [
    "# Coeficiente\n",
    "print('Coefficients: \\n', regr.intercept_, regr.coef_)"
   ]
  },
  {
   "cell_type": "code",
   "execution_count": null,
   "metadata": {},
   "outputs": [],
   "source": [
    "# Erro médio quadrado\n",
    "print(\"Mean squared error: %.2f\"% mean_squared_error(y_test, y_pred))"
   ]
  },
  {
   "cell_type": "code",
   "execution_count": null,
   "metadata": {},
   "outputs": [],
   "source": [
    "# Imprimir saídas\n",
    "plt.scatter(X_test, y_test,  color='black')\n",
    "plt.plot(X_test, y_pred, color='blue', linewidth=3)\n",
    "\n",
    "plt.xticks(())\n",
    "plt.yticks(())\n",
    "\n",
    "plt.show()"
   ]
  },
  {
   "cell_type": "markdown",
   "metadata": {},
   "source": [
    "--------------------------------"
   ]
  },
  {
   "cell_type": "markdown",
   "metadata": {},
   "source": [
    "<h1 align=center><font size = 8><strong>Exemplo regressão linear multivariada</strong></font></h1>"
   ]
  },
  {
   "cell_type": "markdown",
   "metadata": {},
   "source": [
    "# Imports"
   ]
  },
  {
   "cell_type": "code",
   "execution_count": null,
   "metadata": {},
   "outputs": [],
   "source": [
    "import numpy as np\n",
    "import matplotlib.pyplot as plt\n",
    "from numpy.linalg import inv\n",
    "%matplotlib inline"
   ]
  },
  {
   "cell_type": "markdown",
   "metadata": {},
   "source": [
    "# Pre-processamento"
   ]
  },
  {
   "cell_type": "code",
   "execution_count": null,
   "metadata": {},
   "outputs": [],
   "source": [
    "data = np.loadtxt(\"dataset_regressao02.txt\", dtype = float)"
   ]
  },
  {
   "cell_type": "code",
   "execution_count": null,
   "metadata": {},
   "outputs": [],
   "source": [
    "data[:10,:]"
   ]
  },
  {
   "cell_type": "code",
   "execution_count": null,
   "metadata": {},
   "outputs": [],
   "source": [
    "var = data[:,0:2]\n",
    "Y = data[:,2]"
   ]
  },
  {
   "cell_type": "code",
   "execution_count": null,
   "metadata": {},
   "outputs": [],
   "source": [
    "x = np.ones((data.shape[0],data.shape[1]))"
   ]
  },
  {
   "cell_type": "code",
   "execution_count": null,
   "metadata": {},
   "outputs": [],
   "source": [
    "x[:,1:3] = var\n",
    "y = Y"
   ]
  },
  {
   "cell_type": "code",
   "execution_count": null,
   "metadata": {},
   "outputs": [],
   "source": [
    "print(x[:10,:])\n",
    "print(y[:10])"
   ]
  },
  {
   "cell_type": "markdown",
   "metadata": {},
   "source": [
    "# Dividindo treino e teste"
   ]
  },
  {
   "cell_type": "code",
   "execution_count": null,
   "metadata": {},
   "outputs": [],
   "source": [
    "X_train = x[:-20]\n",
    "X_test =  x[-20:]"
   ]
  },
  {
   "cell_type": "code",
   "execution_count": null,
   "metadata": {},
   "outputs": [],
   "source": [
    "y_train = y[:-20]\n",
    "y_test = y[-20:]"
   ]
  },
  {
   "cell_type": "code",
   "execution_count": null,
   "metadata": {},
   "outputs": [],
   "source": [
    "X_train.shape, y_train.shape, X_test.shape, y_test.shape"
   ]
  },
  {
   "cell_type": "markdown",
   "metadata": {},
   "source": [
    "# Aplicação da fórmula fechada dos mínimos quadrados"
   ]
  },
  {
   "cell_type": "code",
   "execution_count": null,
   "metadata": {},
   "outputs": [],
   "source": [
    "w = np.linalg.inv(X_train.T.dot(X_train)).dot(X_train.T).dot(y_train)"
   ]
  },
  {
   "cell_type": "code",
   "execution_count": null,
   "metadata": {},
   "outputs": [],
   "source": [
    "w.shape"
   ]
  },
  {
   "cell_type": "code",
   "execution_count": null,
   "metadata": {},
   "outputs": [],
   "source": [
    "# Criaremos a variável \"wish\" pois nela teremos o shape desejado e faremos a conversão de \"w\" para \"wish\"\n",
    "wish = np.zeros((3,1))"
   ]
  },
  {
   "cell_type": "code",
   "execution_count": null,
   "metadata": {},
   "outputs": [],
   "source": [
    "wish[:,0] = w"
   ]
  },
  {
   "cell_type": "code",
   "execution_count": null,
   "metadata": {},
   "outputs": [],
   "source": [
    "wish.shape"
   ]
  },
  {
   "cell_type": "code",
   "execution_count": null,
   "metadata": {},
   "outputs": [],
   "source": [
    "print(wish)"
   ]
  },
  {
   "cell_type": "markdown",
   "metadata": {},
   "source": [
    "# Obtenção do y-predito"
   ]
  },
  {
   "cell_type": "code",
   "execution_count": null,
   "metadata": {},
   "outputs": [],
   "source": [
    "y_predict = (X_test).dot(wish)"
   ]
  },
  {
   "cell_type": "code",
   "execution_count": null,
   "metadata": {},
   "outputs": [],
   "source": [
    "y_predict.shape, y_test.shape"
   ]
  },
  {
   "cell_type": "code",
   "execution_count": null,
   "metadata": {},
   "outputs": [],
   "source": [
    "y_predict = np.reshape(y_predict,(20))"
   ]
  },
  {
   "cell_type": "code",
   "execution_count": null,
   "metadata": {},
   "outputs": [],
   "source": [
    "y_predict.shape"
   ]
  },
  {
   "cell_type": "markdown",
   "metadata": {},
   "source": [
    "# Cálculo do erro quadrado médio"
   ]
  },
  {
   "cell_type": "code",
   "execution_count": null,
   "metadata": {},
   "outputs": [],
   "source": [
    "mse = np.mean((y_test - y_predict)**2)"
   ]
  },
  {
   "cell_type": "code",
   "execution_count": null,
   "metadata": {},
   "outputs": [],
   "source": [
    "mse"
   ]
  },
  {
   "cell_type": "markdown",
   "metadata": {},
   "source": [
    "----------------------------"
   ]
  },
  {
   "cell_type": "markdown",
   "metadata": {},
   "source": [
    "\n",
    "\n",
    "<h1 align=center><font size = 8><strong>Exemplo regressão linear multivariada com scikit learn</strong></font></h1>"
   ]
  },
  {
   "cell_type": "markdown",
   "metadata": {},
   "source": [
    "<a href=\"https://scikit-learn.org/stable/\"><img src = \"https://upload.wikimedia.org/wikipedia/commons/thumb/0/05/Scikit_learn_logo_small.svg/260px-Scikit_learn_logo_small.svg.png\" width = 250, align = \"center\"></a>"
   ]
  },
  {
   "cell_type": "markdown",
   "metadata": {},
   "source": [
    "Métricas:\n",
    "    - mean squared error:\n",
    "https://scikit-learn.org/stable/modules/generated/sklearn.metrics.mean_squared_error.html#sklearn.metrics.mean_squared_error"
   ]
  },
  {
   "cell_type": "markdown",
   "metadata": {},
   "source": [
    "# Imports"
   ]
  },
  {
   "cell_type": "code",
   "execution_count": null,
   "metadata": {},
   "outputs": [],
   "source": [
    "import matplotlib.pyplot as plt\n",
    "import numpy as np\n",
    "from sklearn import linear_model\n",
    "from sklearn.metrics import mean_squared_error"
   ]
  },
  {
   "cell_type": "markdown",
   "metadata": {},
   "source": [
    "# Pré-processamento"
   ]
  },
  {
   "cell_type": "code",
   "execution_count": null,
   "metadata": {},
   "outputs": [],
   "source": [
    "data = np.loadtxt(\"dataset_regressao02.txt\", dtype = float)"
   ]
  },
  {
   "cell_type": "code",
   "execution_count": null,
   "metadata": {},
   "outputs": [],
   "source": [
    "X = data[:,0:2]\n",
    "Y = data[:,2]"
   ]
  },
  {
   "cell_type": "code",
   "execution_count": null,
   "metadata": {},
   "outputs": [],
   "source": [
    "print(\"Shape de x:\",X.shape)\n",
    "print(\"Shape de y:\",Y.shape)"
   ]
  },
  {
   "cell_type": "markdown",
   "metadata": {},
   "source": [
    "# Separando em conjuntos de treino e de teste\n"
   ]
  },
  {
   "cell_type": "code",
   "execution_count": null,
   "metadata": {},
   "outputs": [],
   "source": [
    "X_train = X[:-20]\n",
    "X_test =  X[-20:]\n",
    "y_train = y[:-20]\n",
    "y_test = y[-20:]"
   ]
  },
  {
   "cell_type": "markdown",
   "metadata": {},
   "source": [
    "# Usando Scikit Learn para rodar nosso experimento"
   ]
  },
  {
   "cell_type": "code",
   "execution_count": null,
   "metadata": {},
   "outputs": [],
   "source": [
    "# regr vai ser nosso objeto da regressão linear\n",
    "regr = linear_model.LinearRegression()"
   ]
  },
  {
   "cell_type": "code",
   "execution_count": null,
   "metadata": {},
   "outputs": [],
   "source": [
    "# Vamos agora dar o \"fit\" para treinar com os conjuntos de treino \n",
    "regr.fit(X_train, y_train)"
   ]
  },
  {
   "cell_type": "code",
   "execution_count": null,
   "metadata": {},
   "outputs": [],
   "source": [
    "# Usar o .predict para extrair as prediçoes usando o conjunto de teste\n",
    "y_pred = regr.predict(X_test)"
   ]
  },
  {
   "cell_type": "code",
   "execution_count": null,
   "metadata": {},
   "outputs": [],
   "source": [
    "# Coeficiente\n",
    "print('Coefficients: \\n', regr.coef_, regr.intercept_)"
   ]
  },
  {
   "cell_type": "code",
   "execution_count": null,
   "metadata": {},
   "outputs": [],
   "source": [
    "# Erro médio quadrado\n",
    "print(\"Mean squared error: %.2f\"% mean_squared_error(y_test, y_pred))"
   ]
  },
  {
   "cell_type": "markdown",
   "metadata": {},
   "source": [
    "-------------------------------"
   ]
  },
  {
   "cell_type": "markdown",
   "metadata": {},
   "source": [
    "<h1 align=center><font size = 8><strong>Exemplo regressão linear univariada usando tensorflow</strong></font></h1>"
   ]
  },
  {
   "cell_type": "markdown",
   "metadata": {},
   "source": [
    "<a href=\"https://www.tensorflow.org/?hl=pt-br\"><img src = \"https://upload.wikimedia.org/wikipedia/commons/thumb/1/11/TensorFlowLogo.svg/1280px-TensorFlowLogo.svg.png\" width = 200, align = \"center\"></a>"
   ]
  },
  {
   "cell_type": "markdown",
   "metadata": {},
   "source": [
    "## Imports"
   ]
  },
  {
   "cell_type": "code",
   "execution_count": 2,
   "metadata": {},
   "outputs": [],
   "source": [
    "import matplotlib.pyplot as plt\n",
    "import numpy as np\n",
    "import tensorflow as tf\n",
    "from sklearn.metrics import mean_squared_error\n",
    "from sklearn.model_selection import train_test_split\n",
    "%matplotlib inline"
   ]
  },
  {
   "cell_type": "markdown",
   "metadata": {},
   "source": [
    "## Pré-processamento"
   ]
  },
  {
   "cell_type": "code",
   "execution_count": 3,
   "metadata": {},
   "outputs": [],
   "source": [
    "data = np.loadtxt(\"dataset_regressao01.txt\", dtype = float, delimiter = ',')"
   ]
  },
  {
   "cell_type": "code",
   "execution_count": 4,
   "metadata": {},
   "outputs": [
    {
     "data": {
      "text/plain": [
       "numpy.ndarray"
      ]
     },
     "execution_count": 4,
     "metadata": {},
     "output_type": "execute_result"
    }
   ],
   "source": [
    "type(data)"
   ]
  },
  {
   "cell_type": "code",
   "execution_count": 5,
   "metadata": {},
   "outputs": [],
   "source": [
    "X = data[:,0]\n",
    "Y = data[:,1]"
   ]
  },
  {
   "cell_type": "markdown",
   "metadata": {},
   "source": [
    "# Dividindo conjuntos de treino e teste"
   ]
  },
  {
   "cell_type": "code",
   "execution_count": 6,
   "metadata": {},
   "outputs": [],
   "source": [
    "X_train, X_test, y_train, y_test = train_test_split(X, Y, test_size = 0.2)"
   ]
  },
  {
   "cell_type": "code",
   "execution_count": 7,
   "metadata": {},
   "outputs": [
    {
     "name": "stdout",
     "output_type": "stream",
     "text": [
      "(77,)\n",
      "----------------------------------------------------------------------\n",
      "(77,)\n",
      "<class 'numpy.ndarray'>\n"
     ]
    }
   ],
   "source": [
    "print(X_train.shape)\n",
    "print(\"----------------------------------------------------------------------\")\n",
    "print(y_train.shape)\n",
    "print(type(y_train))"
   ]
  },
  {
   "cell_type": "markdown",
   "metadata": {},
   "source": [
    "## Definindo hiper-parâmetros"
   ]
  },
  {
   "cell_type": "code",
   "execution_count": 8,
   "metadata": {},
   "outputs": [],
   "source": [
    "learning_rate = 0.0005\n",
    "n_epochs = 3000"
   ]
  },
  {
   "cell_type": "markdown",
   "metadata": {},
   "source": [
    "## Reset nas configurações do grafo de execução"
   ]
  },
  {
   "cell_type": "code",
   "execution_count": 9,
   "metadata": {},
   "outputs": [],
   "source": [
    "tf.reset_default_graph()"
   ]
  },
  {
   "cell_type": "markdown",
   "metadata": {},
   "source": [
    "## Setando Grafo"
   ]
  },
  {
   "cell_type": "code",
   "execution_count": 10,
   "metadata": {},
   "outputs": [],
   "source": [
    "# place_X = tf.constant( X_train, dtype = tf.float32 ,name = \"X\")\n",
    "# place_y = tf.constant(y_train, dtype = tf.float32,name = \"y\")\n",
    "# place_X = tf.Variable( X_train, dtype = tf.float32 ,name = \"X\")\n",
    "# place_y = tf.Variable( y_train, dtype = tf.float32 ,name = \"y\")\n",
    "place_X = tf.placeholder(tf.float32)\n",
    "place_y = tf.placeholder(tf.float32)"
   ]
  },
  {
   "cell_type": "markdown",
   "metadata": {},
   "source": [
    "# Setando pesos do modelo"
   ]
  },
  {
   "cell_type": "code",
   "execution_count": 11,
   "metadata": {},
   "outputs": [],
   "source": [
    "W = tf.Variable(np.random.randn(), name = \"W\") \n",
    "b = tf.Variable(np.random.randn(), name = \"b\") "
   ]
  },
  {
   "cell_type": "markdown",
   "metadata": {},
   "source": [
    "# Definindo nossa predição"
   ]
  },
  {
   "cell_type": "code",
   "execution_count": 12,
   "metadata": {},
   "outputs": [],
   "source": [
    "y_pred = tf.add(tf.multiply(place_X,W), b)"
   ]
  },
  {
   "cell_type": "markdown",
   "metadata": {},
   "source": [
    "# Definindo funçao de custo"
   ]
  },
  {
   "cell_type": "code",
   "execution_count": 13,
   "metadata": {},
   "outputs": [],
   "source": [
    "loss = tf.losses.mean_squared_error(place_y,y_pred)"
   ]
  },
  {
   "cell_type": "markdown",
   "metadata": {},
   "source": [
    "# Definindo nosso otimizador"
   ]
  },
  {
   "cell_type": "code",
   "execution_count": 14,
   "metadata": {},
   "outputs": [],
   "source": [
    "optimizer = tf.train.AdamOptimizer(learning_rate).minimize(loss)"
   ]
  },
  {
   "cell_type": "markdown",
   "metadata": {},
   "source": [
    "# Inicializando nossas variaveis"
   ]
  },
  {
   "cell_type": "code",
   "execution_count": 15,
   "metadata": {},
   "outputs": [],
   "source": [
    "init = tf.global_variables_initializer()"
   ]
  },
  {
   "cell_type": "markdown",
   "metadata": {},
   "source": [
    "# Rodando grafo"
   ]
  },
  {
   "cell_type": "code",
   "execution_count": 16,
   "metadata": {},
   "outputs": [
    {
     "name": "stdout",
     "output_type": "stream",
     "text": [
      "Epoch: 100 cost = 9.953078\n",
      "Epoch: 200 cost = 9.373734\n",
      "Epoch: 300 cost = 8.949551\n",
      "Epoch: 400 cost = 8.644139\n",
      "Epoch: 500 cost = 8.427108\n",
      "Epoch: 600 cost = 8.27445\n",
      "Epoch: 700 cost = 8.167888\n",
      "Epoch: 800 cost = 8.093911\n",
      "Epoch: 900 cost = 8.04276\n",
      "Epoch: 1000 cost = 8.007497\n",
      "Epoch: 1100 cost = 7.983232\n",
      "Epoch: 1200 cost = 7.9665637\n",
      "Epoch: 1300 cost = 7.955125\n",
      "Epoch: 1400 cost = 7.94728\n",
      "Epoch: 1500 cost = 7.9419026\n",
      "Epoch: 1600 cost = 7.9382205\n",
      "Epoch: 1700 cost = 7.9356985\n",
      "Epoch: 1800 cost = 7.9339733\n",
      "Epoch: 1900 cost = 7.932794\n",
      "Epoch: 2000 cost = 7.931988\n",
      "Epoch: 2100 cost = 7.931437\n",
      "Epoch: 2200 cost = 7.9310617\n",
      "Epoch: 2300 cost = 7.930805\n",
      "Epoch: 2400 cost = 7.9306316\n",
      "Epoch: 2500 cost = 7.9305124\n",
      "Epoch: 2600 cost = 7.930433\n",
      "Epoch: 2700 cost = 7.930378\n",
      "Epoch: 2800 cost = 7.930342\n",
      "Epoch: 2900 cost = 7.930317\n",
      "Epoch: 3000 cost = 7.9303\n"
     ]
    }
   ],
   "source": [
    "# Rodando com tf.placeholder\n",
    "with tf.Session() as sess:\n",
    "    sess.run(init)\n",
    "    for epoch in range(n_epochs):\n",
    "        for (x,y) in zip(X_train, y_train):\n",
    "            sess.run(optimizer, feed_dict={place_X: x, place_y: y})\n",
    "        if (epoch+1) % 100 == 0:\n",
    "            c = sess.run(loss, feed_dict={place_X: X_train, place_y: y_train})\n",
    "            print(\"Epoch:\", (epoch+1), \"cost =\", c)\n",
    "            \n",
    "    w_final, b_final = sess.run([W,b])"
   ]
  },
  {
   "cell_type": "code",
   "execution_count": null,
   "metadata": {},
   "outputs": [],
   "source": [
    "#Rodando com tf.variable e tf.contant\n",
    "# with tf.Session() as sess:\n",
    "#     sess.run(init)\n",
    "#     for epoch in range(n_epochs):\n",
    "#         sess.run(optimizer)\n",
    "#         if (epoch+1) % 100 == 0:\n",
    "#             c = sess.run(loss)\n",
    "#             print(\"Epoch:\", (epoch+1), \"cost =\", c)\n",
    "            \n",
    "#     w_final, b_final = sess.run([W,b])"
   ]
  },
  {
   "cell_type": "markdown",
   "metadata": {},
   "source": [
    "# Exibindo pesos finais"
   ]
  },
  {
   "cell_type": "code",
   "execution_count": 50,
   "metadata": {},
   "outputs": [
    {
     "name": "stdout",
     "output_type": "stream",
     "text": [
      "0.72814995\n",
      "1.7144613\n"
     ]
    }
   ],
   "source": [
    "print(w_final)\n",
    "print(b_final)"
   ]
  },
  {
   "cell_type": "markdown",
   "metadata": {},
   "source": [
    "# Calculando y predito"
   ]
  },
  {
   "cell_type": "code",
   "execution_count": 51,
   "metadata": {},
   "outputs": [
    {
     "name": "stdout",
     "output_type": "stream",
     "text": [
      "[ 5.67333979 16.52575947  5.63147117  8.1406759   6.0045752   5.38178855\n",
      "  6.72595336 11.46730176  6.9703933   7.20369254  5.65149529  5.82173675\n",
      "  5.40632721  7.83703737  7.25065822  7.12017374  6.34236397  6.43738754\n",
      "  5.71207737  7.91727949]\n"
     ]
    }
   ],
   "source": [
    "y_pred = (w_final*X_test[:])+b_final\n",
    "print(y_pred)"
   ]
  },
  {
   "cell_type": "markdown",
   "metadata": {},
   "source": [
    "# Calculando erro quadrado médio "
   ]
  },
  {
   "cell_type": "code",
   "execution_count": 52,
   "metadata": {},
   "outputs": [
    {
     "name": "stdout",
     "output_type": "stream",
     "text": [
      "11.90365032494538\n"
     ]
    }
   ],
   "source": [
    "mse = mean_squared_error(y_test,y_pred)\n",
    "print(mse)"
   ]
  },
  {
   "cell_type": "markdown",
   "metadata": {},
   "source": [
    "---------------------"
   ]
  },
  {
   "cell_type": "markdown",
   "metadata": {},
   "source": [
    "<h1 align=center><font size = 8><strong>Exemplo regressão linear multivariada usando tensorflow</strong></font></h1>"
   ]
  },
  {
   "cell_type": "markdown",
   "metadata": {},
   "source": [
    "<a href=\"https://www.tensorflow.org/?hl=pt-br\"><img src = \"https://upload.wikimedia.org/wikipedia/commons/thumb/1/11/TensorFlowLogo.svg/1280px-TensorFlowLogo.svg.png\" width = 200, align = \"center\"></a>"
   ]
  },
  {
   "cell_type": "markdown",
   "metadata": {},
   "source": [
    "# Imports"
   ]
  },
  {
   "cell_type": "code",
   "execution_count": 71,
   "metadata": {},
   "outputs": [],
   "source": [
    "import matplotlib.pyplot as plt\n",
    "import numpy as np\n",
    "import tensorflow as tf\n",
    "from sklearn.metrics import mean_squared_error\n",
    "from sklearn.model_selection import train_test_split"
   ]
  },
  {
   "cell_type": "markdown",
   "metadata": {},
   "source": [
    "# Pré-processamento"
   ]
  },
  {
   "cell_type": "code",
   "execution_count": 72,
   "metadata": {},
   "outputs": [],
   "source": [
    "data = np.loadtxt(\"dataset_regressao02.txt\", dtype = float)"
   ]
  },
  {
   "cell_type": "code",
   "execution_count": 73,
   "metadata": {},
   "outputs": [],
   "source": [
    "X = data[:,0:2]\n",
    "Y = data[:,2]"
   ]
  },
  {
   "cell_type": "code",
   "execution_count": 74,
   "metadata": {},
   "outputs": [
    {
     "name": "stdout",
     "output_type": "stream",
     "text": [
      "Shape de x: (47, 2)\n",
      "Shape de y: (47,)\n"
     ]
    }
   ],
   "source": [
    "print(\"Shape de x:\",X.shape)\n",
    "print(\"Shape de y:\",Y.shape)"
   ]
  },
  {
   "cell_type": "markdown",
   "metadata": {},
   "source": [
    "# Dividindo os conjuntos em treino e teste"
   ]
  },
  {
   "cell_type": "code",
   "execution_count": 75,
   "metadata": {},
   "outputs": [],
   "source": [
    "X_train, X_test, y_train, y_test = train_test_split(X, Y, test_size = 0.2)"
   ]
  },
  {
   "cell_type": "markdown",
   "metadata": {},
   "source": [
    "# Definindo parâmetros"
   ]
  },
  {
   "cell_type": "code",
   "execution_count": 76,
   "metadata": {},
   "outputs": [],
   "source": [
    "learning_rate = 0.0001\n",
    "n_epochs = 7000"
   ]
  },
  {
   "cell_type": "markdown",
   "metadata": {},
   "source": [
    "# Definindo o reset do grafo de execução"
   ]
  },
  {
   "cell_type": "code",
   "execution_count": 77,
   "metadata": {},
   "outputs": [],
   "source": [
    "tf.reset_default_graph()"
   ]
  },
  {
   "cell_type": "markdown",
   "metadata": {},
   "source": [
    "# Definindo nossas variáveis do modelo"
   ]
  },
  {
   "cell_type": "code",
   "execution_count": 78,
   "metadata": {},
   "outputs": [],
   "source": [
    "# place_X1 = tf.constant( X_train[:,0], dtype = tf.float32 ,name = \"X1\")\n",
    "# place_X2 = tf.constant( X_train[:,1], dtype = tf.float32 ,name = \"X2\")\n",
    "# place_y = tf.constant(y_train, dtype = tf.float32,name = \"y\")\n",
    "# place_X1 = tf.Variable( X_train[:,0], dtype = tf.float32, name = \"X1\")\n",
    "# place_X2 = tf.Variable( X_train[:,1], dtype = tf.float32, name = \"X2\")\n",
    "# place_y = tf.Variable( y_train, dtype = tf.float32 ,name = \"y\")\n",
    "place_X1 = tf.placeholder(tf.float32)\n",
    "place_X2 = tf.placeholder(tf.float32)\n",
    "place_y =  tf.placeholder(tf.float32)\n"
   ]
  },
  {
   "cell_type": "code",
   "execution_count": 79,
   "metadata": {},
   "outputs": [],
   "source": [
    "W1 = tf.Variable(np.random.randn(), name = \"W1\")\n",
    "W2 = tf.Variable(np.random.randn(), name = \"W2\")\n",
    "b = tf.Variable(np.random.randn(), name = \"b\") "
   ]
  },
  {
   "cell_type": "markdown",
   "metadata": {},
   "source": [
    "# Definindo calculo do modelo "
   ]
  },
  {
   "cell_type": "code",
   "execution_count": 80,
   "metadata": {},
   "outputs": [],
   "source": [
    "termo1 = tf.multiply(place_X1,W1)"
   ]
  },
  {
   "cell_type": "code",
   "execution_count": 81,
   "metadata": {},
   "outputs": [],
   "source": [
    "termo2 = tf.multiply(place_X2,W2)"
   ]
  },
  {
   "cell_type": "markdown",
   "metadata": {},
   "source": [
    "# Definindo cálculo das predições"
   ]
  },
  {
   "cell_type": "code",
   "execution_count": 82,
   "metadata": {},
   "outputs": [],
   "source": [
    "y_pred = tf.add(tf.add(termo1,termo2),b)"
   ]
  },
  {
   "cell_type": "markdown",
   "metadata": {},
   "source": [
    "# Definindo função de custo"
   ]
  },
  {
   "cell_type": "code",
   "execution_count": 83,
   "metadata": {},
   "outputs": [],
   "source": [
    "loss = tf.losses.mean_squared_error(place_y,y_pred)"
   ]
  },
  {
   "cell_type": "markdown",
   "metadata": {},
   "source": [
    "# Definindo nosso médoto de descida"
   ]
  },
  {
   "cell_type": "code",
   "execution_count": 84,
   "metadata": {},
   "outputs": [],
   "source": [
    "optimizer = tf.train.AdamOptimizer(learning_rate).minimize(loss)"
   ]
  },
  {
   "cell_type": "markdown",
   "metadata": {},
   "source": [
    "# Inicializando variáveis do tensorflow"
   ]
  },
  {
   "cell_type": "code",
   "execution_count": 85,
   "metadata": {},
   "outputs": [],
   "source": [
    "init = tf.global_variables_initializer()"
   ]
  },
  {
   "cell_type": "markdown",
   "metadata": {},
   "source": [
    "# Rodando grafo de execução"
   ]
  },
  {
   "cell_type": "code",
   "execution_count": 87,
   "metadata": {},
   "outputs": [
    {
     "name": "stdout",
     "output_type": "stream",
     "text": [
      "Epoch: 100 cost = 20.111395\n",
      "Epoch: 200 cost = 7.3250914\n",
      "Epoch: 300 cost = 1.6929928\n",
      "Epoch: 400 cost = 0.69574904\n",
      "Epoch: 500 cost = 0.64781904\n",
      "Epoch: 600 cost = 0.6270684\n",
      "Epoch: 700 cost = 0.6079709\n",
      "Epoch: 800 cost = 0.5902247\n",
      "Epoch: 900 cost = 0.5737726\n",
      "Epoch: 1000 cost = 0.55855983\n",
      "Epoch: 1100 cost = 0.5445303\n",
      "Epoch: 1200 cost = 0.5316269\n",
      "Epoch: 1300 cost = 0.5197893\n",
      "Epoch: 1400 cost = 0.5089611\n",
      "Epoch: 1500 cost = 0.49907804\n",
      "Epoch: 1600 cost = 0.49008375\n",
      "Epoch: 1700 cost = 0.48191863\n",
      "Epoch: 1800 cost = 0.474527\n",
      "Epoch: 1900 cost = 0.46784726\n",
      "Epoch: 2000 cost = 0.4618256\n",
      "Epoch: 2100 cost = 0.45640904\n",
      "Epoch: 2200 cost = 0.45154792\n",
      "Epoch: 2300 cost = 0.4471942\n",
      "Epoch: 2400 cost = 0.44330072\n",
      "Epoch: 2500 cost = 0.439825\n",
      "Epoch: 2600 cost = 0.43672583\n",
      "Epoch: 2700 cost = 0.43397048\n",
      "Epoch: 2800 cost = 0.43151954\n",
      "Epoch: 2900 cost = 0.42934483\n",
      "Epoch: 3000 cost = 0.42741674\n",
      "Epoch: 3100 cost = 0.4257109\n",
      "Epoch: 3200 cost = 0.42419997\n",
      "Epoch: 3300 cost = 0.42286518\n",
      "Epoch: 3400 cost = 0.42168534\n",
      "Epoch: 3500 cost = 0.420644\n",
      "Epoch: 3600 cost = 0.4197262\n",
      "Epoch: 3700 cost = 0.41891602\n",
      "Epoch: 3800 cost = 0.41820285\n",
      "Epoch: 3900 cost = 0.41757345\n",
      "Epoch: 4000 cost = 0.41701952\n",
      "Epoch: 4100 cost = 0.4165318\n",
      "Epoch: 4200 cost = 0.41610336\n",
      "Epoch: 4300 cost = 0.4157257\n",
      "Epoch: 4400 cost = 0.415394\n",
      "Epoch: 4500 cost = 0.4151039\n",
      "Epoch: 4600 cost = 0.41484812\n",
      "Epoch: 4700 cost = 0.41462278\n",
      "Epoch: 4800 cost = 0.41442537\n",
      "Epoch: 4900 cost = 0.41425225\n",
      "Epoch: 5000 cost = 0.41409943\n",
      "Epoch: 5100 cost = 0.41396487\n",
      "Epoch: 5200 cost = 0.41384688\n",
      "Epoch: 5300 cost = 0.413743\n",
      "Epoch: 5400 cost = 0.41365197\n",
      "Epoch: 5500 cost = 0.4135719\n",
      "Epoch: 5600 cost = 0.41350144\n",
      "Epoch: 5700 cost = 0.41343945\n",
      "Epoch: 5800 cost = 0.4133851\n",
      "Epoch: 5900 cost = 0.41333762\n",
      "Epoch: 6000 cost = 0.41329542\n",
      "Epoch: 6100 cost = 0.41325822\n",
      "Epoch: 6200 cost = 0.41322556\n",
      "Epoch: 6300 cost = 0.41319722\n",
      "Epoch: 6400 cost = 0.41317227\n",
      "Epoch: 6500 cost = 0.41315025\n",
      "Epoch: 6600 cost = 0.41313073\n",
      "Epoch: 6700 cost = 0.41311383\n",
      "Epoch: 6800 cost = 0.41309857\n",
      "Epoch: 6900 cost = 0.41308537\n",
      "Epoch: 7000 cost = 0.41307375\n"
     ]
    }
   ],
   "source": [
    "# Rodando com tf.placeholder\n",
    "with tf.Session() as sess:\n",
    "    sess.run(init)\n",
    "    for epoch in range(n_epochs):\n",
    "        for (x1,x2,y) in zip(X_train[:,0], X_train[:,1], y_train):\n",
    "            sess.run(optimizer, feed_dict={place_X1: x1, place_X2: x2, place_y: y})\n",
    "        if (epoch+1) % 100 == 0:\n",
    "            c = sess.run(loss, feed_dict={place_X1: X_train[:,0], place_X2: X_train[:,1],place_y: y_train})\n",
    "            print(\"Epoch:\", (epoch+1), \"cost =\", c)\n",
    "            \n",
    "    w1_final, w2_final, b_final = sess.run([W1, W2, b])"
   ]
  },
  {
   "cell_type": "code",
   "execution_count": 88,
   "metadata": {},
   "outputs": [],
   "source": [
    "# Rodando com tf.variable e tf.constantes\n",
    "# with tf.Session() as sess:\n",
    "#     sess.run(init)\n",
    "#     for epoch in range(n_epochs):\n",
    "#         sess.run(optimizer)\n",
    "#         if (epoch+1) % 1000 == 0:\n",
    "#             c = sess.run(loss)\n",
    "#             print(\"Epoch:\", (epoch+1), \"cost =\", c)\n",
    "#     w1_final, w2_final, b_final = sess.run([W1, W2, b])"
   ]
  },
  {
   "cell_type": "markdown",
   "metadata": {},
   "source": [
    "# Exibindo pesos otimizados"
   ]
  },
  {
   "cell_type": "code",
   "execution_count": 89,
   "metadata": {},
   "outputs": [
    {
     "name": "stdout",
     "output_type": "stream",
     "text": [
      "1.2622647\n",
      "-0.04411164\n",
      "0.9724615\n"
     ]
    }
   ],
   "source": [
    "print(w1_final)\n",
    "print(w2_final)\n",
    "print(b_final)"
   ]
  },
  {
   "cell_type": "markdown",
   "metadata": {},
   "source": [
    "# Calculado y predito do teste"
   ]
  },
  {
   "cell_type": "code",
   "execution_count": 90,
   "metadata": {},
   "outputs": [
    {
     "name": "stdout",
     "output_type": "stream",
     "text": [
      "[4.02860731 2.40028581 6.40432478 2.7764407  4.58280915 2.64137837\n",
      " 4.03624852 2.35484428 2.35863107 4.79985106]\n"
     ]
    }
   ],
   "source": [
    "y_pred = (w1_final*X_test[:,0])+(w2_final*X_test[:,1])+b_final\n",
    "print(y_pred)"
   ]
  },
  {
   "cell_type": "markdown",
   "metadata": {},
   "source": [
    "# Calculando erro quadrado médio do teste"
   ]
  },
  {
   "cell_type": "code",
   "execution_count": 91,
   "metadata": {},
   "outputs": [
    {
     "name": "stdout",
     "output_type": "stream",
     "text": [
      "0.43876894723016757\n"
     ]
    }
   ],
   "source": [
    "mse = np.mean((y_test - y_pred)**2)\n",
    "print(mse)"
   ]
  },
  {
   "cell_type": "code",
   "execution_count": null,
   "metadata": {},
   "outputs": [],
   "source": []
  }
 ],
 "metadata": {
  "kernelspec": {
   "display_name": "Python 3",
   "language": "python",
   "name": "python3"
  },
  "language_info": {
   "codemirror_mode": {
    "name": "ipython",
    "version": 3
   },
   "file_extension": ".py",
   "mimetype": "text/x-python",
   "name": "python",
   "nbconvert_exporter": "python",
   "pygments_lexer": "ipython3",
   "version": "3.6.7"
  }
 },
 "nbformat": 4,
 "nbformat_minor": 2
}
